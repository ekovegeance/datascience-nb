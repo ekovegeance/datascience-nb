{
 "cells": [
  {
   "metadata": {},
   "cell_type": "markdown",
   "source": [
    "# Comparison\n",
    "[Comparison with spreadsheets](https://pandas.pydata.org/docs/getting_started/comparison/comparison_with_spreadsheets.html)\n",
    "Since many potential pandas users have some familiarity with spreadsheet programs like Excel, this page is meant to provide some examples of how various spreadsheet operations would be performed using pandas. This page will use terminology and link to documentation for Excel, but much will be the same/similar in Google Sheets, LibreOffice Calc, Apple Numbers, and other Excel-compatible spreadsheet software."
   ],
   "id": "397b101aed346de"
  },
  {
   "metadata": {
    "ExecuteTime": {
     "end_time": "2025-07-17T04:08:52.197965Z",
     "start_time": "2025-07-17T04:08:52.082860Z"
    }
   },
   "cell_type": "code",
   "source": [
    "import pandas as pd\n",
    "import numpy as np\n",
    "\n",
    "\n",
    "tips = pd.read_csv('data/tips.csv', delimiter=',')\n",
    "\n",
    "# Operations on Columns / Formulas in Spreadsheets\n",
    "tips['total_bill'] = tips['total_bill'] - 2\n",
    "tips['new_bill'] = tips['total_bill'] / 2\n",
    "\n",
    "# Filter\n",
    "# tips = tips[tips['new_bill'] > 10]\n",
    "# is_dinner = tips['time'] == 'Dinner'\n",
    "# tips = tips[is_dinner]\n",
    "# print(tips['new_bill'].count())\n",
    "\n",
    "# Conditional Column Creation / IF Statements in Spreadsheets e.g. IF(A1 < 10, \"low\", \"high\")\n",
    "tips['bucket'] = np.where(tips['total_bill'] < 10, 'low', 'high')\n",
    "filter_bucket = tips['bucket'] == 'high'\n",
    "# tips = tips[filter_bucket]\n",
    "\n",
    "# Date Functions / Date and Time Functions in Spreadsheets\n",
    "tips['date1'] = pd.Timestamp('2013-01-15')\n",
    "tips['date2'] = pd.Timestamp('2015-02-15')\n",
    "tips['date1_year'] = tips['date1'].dt.year  # Extract year from date / YEAR(K2) in Spreadsheets\n",
    "tips['date2_month'] = tips['date2'].dt.month # Extract month from date / MONTH(K2) in Spreadsheets\n",
    "tips['date1_next'] = tips['date1'] + pd.offsets.MonthBegin() # Add one month to date / =DATE(YEAR(K2);MONTH(K2)+1;1) Spreadsheets\n",
    "tips['months_between'] = tips['date2'].dt.to_period('M') - tips['date1'].dt.to_period('M') # Difference in months between two dates / DATEDIF(K2;L2;\"M\") in Spreadsheets\n",
    "\n",
    "# Selecting Columns / Selecting Cells in Spreadsheets\n",
    "# tips[['total_bill', 'tip']]  # Select multiple columns\n",
    "# tips.drop(\"sex\", axis=1, inplace=True)  # Drop a column\n",
    "# tips.rename(columns={'total_bill': 'total_bill2'}, inplace=True)  # Rename a column\n",
    "\n",
    "# tips = tips.sort_values(['sex'], ascending=True)  # Sort by a column\n",
    "\n",
    "# print(tips['time'].str.len())  # String length of column\n",
    "tips['FIND()'] = tips['sex'].str.find('ale') # String search / FIND('ale';C2) in Spreadsheets\n",
    "tips['MID()'] = tips['sex'].str[0:1] # String slicing / MID(C2;1;1) in Spreadsheets\n",
    "print(tips)\n",
    "\n",
    "\n"
   ],
   "id": "e423db6f47ed99f0",
   "outputs": [
    {
     "name": "stdout",
     "output_type": "stream",
     "text": [
      "     total_bill   tip     sex smoker   day    time  size  new_bill bucket  \\\n",
      "0         14.99  1.01  Female     No   Sun  Dinner     2     7.495   high   \n",
      "1          8.34  1.66    Male     No   Sun  Dinner     3     4.170    low   \n",
      "2         19.01  3.50    Male     No   Sun  Dinner     3     9.505   high   \n",
      "3         21.68  3.31    Male     No   Sun  Dinner     2    10.840   high   \n",
      "4         22.59  3.61  Female     No   Sun  Dinner     4    11.295   high   \n",
      "..          ...   ...     ...    ...   ...     ...   ...       ...    ...   \n",
      "239       27.03  5.92    Male     No   Sat  Dinner     3    13.515   high   \n",
      "240       25.18  2.00  Female    Yes   Sat  Dinner     2    12.590   high   \n",
      "241       20.67  2.00    Male    Yes   Sat  Dinner     2    10.335   high   \n",
      "242       15.82  1.75    Male     No   Sat  Dinner     2     7.910   high   \n",
      "243       16.78  3.00  Female     No  Thur  Dinner     2     8.390   high   \n",
      "\n",
      "         date1      date2  date1_year  date2_month date1_next  \\\n",
      "0   2013-01-15 2015-02-15        2013            2 2013-02-01   \n",
      "1   2013-01-15 2015-02-15        2013            2 2013-02-01   \n",
      "2   2013-01-15 2015-02-15        2013            2 2013-02-01   \n",
      "3   2013-01-15 2015-02-15        2013            2 2013-02-01   \n",
      "4   2013-01-15 2015-02-15        2013            2 2013-02-01   \n",
      "..         ...        ...         ...          ...        ...   \n",
      "239 2013-01-15 2015-02-15        2013            2 2013-02-01   \n",
      "240 2013-01-15 2015-02-15        2013            2 2013-02-01   \n",
      "241 2013-01-15 2015-02-15        2013            2 2013-02-01   \n",
      "242 2013-01-15 2015-02-15        2013            2 2013-02-01   \n",
      "243 2013-01-15 2015-02-15        2013            2 2013-02-01   \n",
      "\n",
      "       months_between  FIND() MID()  \n",
      "0    <25 * MonthEnds>       3     F  \n",
      "1    <25 * MonthEnds>       1     M  \n",
      "2    <25 * MonthEnds>       1     M  \n",
      "3    <25 * MonthEnds>       1     M  \n",
      "4    <25 * MonthEnds>       3     F  \n",
      "..                ...     ...   ...  \n",
      "239  <25 * MonthEnds>       1     M  \n",
      "240  <25 * MonthEnds>       3     F  \n",
      "241  <25 * MonthEnds>       1     M  \n",
      "242  <25 * MonthEnds>       1     M  \n",
      "243  <25 * MonthEnds>       3     F  \n",
      "\n",
      "[244 rows x 17 columns]\n"
     ]
    }
   ],
   "execution_count": 42
  },
  {
   "metadata": {},
   "cell_type": "markdown",
   "source": [
    "# Extracting nth word\n",
    "In Excel, you might use the [Text to Columns Wizard](https://support.microsoft.com/en-us/office/split-text-into-different-columns-with-the-convert-text-to-columns-wizard-30b14928-5550-41f5-97ca-7a3e9c363ed7) for splitting text and retrieving a specific column. (Note it’s possible to do so through a formula as well.)\n",
    "\n",
    "The simplest way to extract words in pandas is to split the strings by spaces, then reference the word by index. Note there are more powerful approaches should you need them."
   ],
   "id": "1b675c9ed48a593a"
  },
  {
   "metadata": {
    "ExecuteTime": {
     "end_time": "2025-07-17T04:08:52.296175Z",
     "start_time": "2025-07-17T04:08:52.258016Z"
    }
   },
   "cell_type": "code",
   "source": [
    "df = pd.DataFrame({'String': ['John Smith', 'Jane Doe', 'Alice Johnson']})\n",
    "\n",
    "# Extracting first and last names\n",
    "df['first_name'] = df['String'].str.split(\" \", expand=True)[0]  # Extract first word\n",
    "df['last_name'] = df['String'].str.split(\" \", expand=True)[1]  # Extract second word\n",
    "df['title'] = df['String'].str.title()\n",
    "\n",
    "# Convert first name to uppercase and last name to lowercase\n",
    "df['first_name'] = df['first_name'].str.upper() # Convert to uppercase\n",
    "df['last_name'] = df['last_name'].str.lower()  # Convert to lowercase\n",
    "\n",
    "df"
   ],
   "id": "583978922b3205ea",
   "outputs": [
    {
     "data": {
      "text/plain": [
       "          String first_name last_name          title\n",
       "0     John Smith       JOHN     smith     John Smith\n",
       "1       Jane Doe       JANE       doe       Jane Doe\n",
       "2  Alice Johnson      ALICE   johnson  Alice Johnson"
      ],
      "text/html": [
       "<div>\n",
       "<style scoped>\n",
       "    .dataframe tbody tr th:only-of-type {\n",
       "        vertical-align: middle;\n",
       "    }\n",
       "\n",
       "    .dataframe tbody tr th {\n",
       "        vertical-align: top;\n",
       "    }\n",
       "\n",
       "    .dataframe thead th {\n",
       "        text-align: right;\n",
       "    }\n",
       "</style>\n",
       "<table border=\"1\" class=\"dataframe\">\n",
       "  <thead>\n",
       "    <tr style=\"text-align: right;\">\n",
       "      <th></th>\n",
       "      <th>String</th>\n",
       "      <th>first_name</th>\n",
       "      <th>last_name</th>\n",
       "      <th>title</th>\n",
       "    </tr>\n",
       "  </thead>\n",
       "  <tbody>\n",
       "    <tr>\n",
       "      <th>0</th>\n",
       "      <td>John Smith</td>\n",
       "      <td>JOHN</td>\n",
       "      <td>smith</td>\n",
       "      <td>John Smith</td>\n",
       "    </tr>\n",
       "    <tr>\n",
       "      <th>1</th>\n",
       "      <td>Jane Doe</td>\n",
       "      <td>JANE</td>\n",
       "      <td>doe</td>\n",
       "      <td>Jane Doe</td>\n",
       "    </tr>\n",
       "    <tr>\n",
       "      <th>2</th>\n",
       "      <td>Alice Johnson</td>\n",
       "      <td>ALICE</td>\n",
       "      <td>johnson</td>\n",
       "      <td>Alice Johnson</td>\n",
       "    </tr>\n",
       "  </tbody>\n",
       "</table>\n",
       "</div>"
      ]
     },
     "execution_count": 43,
     "metadata": {},
     "output_type": "execute_result"
    }
   ],
   "execution_count": 43
  },
  {
   "metadata": {},
   "cell_type": "markdown",
   "source": "# Merging",
   "id": "7cb88df00e0cfde2"
  },
  {
   "metadata": {
    "ExecuteTime": {
     "end_time": "2025-07-17T09:42:40.756160Z",
     "start_time": "2025-07-17T09:42:40.696816Z"
    }
   },
   "cell_type": "code",
   "source": [
    "df1 = pd.DataFrame({'key': ['A', 'B', 'C', 'D'], 'Value': np.random.randn(4)})\n",
    "df2 = pd.DataFrame({'key': [ 'B', 'D', 'D', 'E'], 'Value': np.random.rand(4)})\n",
    "\n",
    "\n",
    "inner_join = df1.merge(df2, on=['key'], how='inner')\n",
    "outer_join = df1.merge(df2, on=['key'], how='outer')\n",
    "left_join = df1.merge(df2, on=['key'], how='left')\n",
    "right_join = df1.merge(df2, on=['key'], how='right')\n",
    "\n",
    "\n",
    "left_join"
   ],
   "id": "7081924e38d3185a",
   "outputs": [
    {
     "data": {
      "text/plain": [
       "  key   Value_x   Value_y\n",
       "0   A -0.740090       NaN\n",
       "1   B -1.603610  0.149624\n",
       "2   C -0.165419       NaN\n",
       "3   D -0.716529  0.200407\n",
       "4   D -0.716529  0.735563"
      ],
      "text/html": [
       "<div>\n",
       "<style scoped>\n",
       "    .dataframe tbody tr th:only-of-type {\n",
       "        vertical-align: middle;\n",
       "    }\n",
       "\n",
       "    .dataframe tbody tr th {\n",
       "        vertical-align: top;\n",
       "    }\n",
       "\n",
       "    .dataframe thead th {\n",
       "        text-align: right;\n",
       "    }\n",
       "</style>\n",
       "<table border=\"1\" class=\"dataframe\">\n",
       "  <thead>\n",
       "    <tr style=\"text-align: right;\">\n",
       "      <th></th>\n",
       "      <th>key</th>\n",
       "      <th>Value_x</th>\n",
       "      <th>Value_y</th>\n",
       "    </tr>\n",
       "  </thead>\n",
       "  <tbody>\n",
       "    <tr>\n",
       "      <th>0</th>\n",
       "      <td>A</td>\n",
       "      <td>-0.740090</td>\n",
       "      <td>NaN</td>\n",
       "    </tr>\n",
       "    <tr>\n",
       "      <th>1</th>\n",
       "      <td>B</td>\n",
       "      <td>-1.603610</td>\n",
       "      <td>0.149624</td>\n",
       "    </tr>\n",
       "    <tr>\n",
       "      <th>2</th>\n",
       "      <td>C</td>\n",
       "      <td>-0.165419</td>\n",
       "      <td>NaN</td>\n",
       "    </tr>\n",
       "    <tr>\n",
       "      <th>3</th>\n",
       "      <td>D</td>\n",
       "      <td>-0.716529</td>\n",
       "      <td>0.200407</td>\n",
       "    </tr>\n",
       "    <tr>\n",
       "      <th>4</th>\n",
       "      <td>D</td>\n",
       "      <td>-0.716529</td>\n",
       "      <td>0.735563</td>\n",
       "    </tr>\n",
       "  </tbody>\n",
       "</table>\n",
       "</div>"
      ]
     },
     "execution_count": 76,
     "metadata": {},
     "output_type": "execute_result"
    }
   ],
   "execution_count": 76
  },
  {
   "metadata": {
    "ExecuteTime": {
     "end_time": "2025-07-17T08:19:26.098207Z",
     "start_time": "2025-07-17T08:19:26.087Z"
    }
   },
   "cell_type": "code",
   "source": "",
   "id": "9e331f07b9ceb9e9",
   "outputs": [],
   "execution_count": null
  }
 ],
 "metadata": {
  "kernelspec": {
   "display_name": "Python 3",
   "language": "python",
   "name": "python3"
  },
  "language_info": {
   "codemirror_mode": {
    "name": "ipython",
    "version": 2
   },
   "file_extension": ".py",
   "mimetype": "text/x-python",
   "name": "python",
   "nbconvert_exporter": "python",
   "pygments_lexer": "ipython2",
   "version": "2.7.6"
  }
 },
 "nbformat": 4,
 "nbformat_minor": 5
}
