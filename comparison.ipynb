{
 "cells": [
  {
   "metadata": {},
   "cell_type": "markdown",
   "source": [
    "# Comparison\n",
    "[Comparison with spreadsheets](https://pandas.pydata.org/docs/getting_started/comparison/comparison_with_spreadsheets.html)\n",
    "Since many potential pandas users have some familiarity with spreadsheet programs like Excel, this page is meant to provide some examples of how various spreadsheet operations would be performed using pandas. This page will use terminology and link to documentation for Excel, but much will be the same/similar in Google Sheets, LibreOffice Calc, Apple Numbers, and other Excel-compatible spreadsheet software."
   ],
   "id": "397b101aed346de"
  },
  {
   "metadata": {
    "ExecuteTime": {
     "end_time": "2025-07-18T04:36:13.032001Z",
     "start_time": "2025-07-18T04:36:12.971602Z"
    }
   },
   "cell_type": "code",
   "source": [
    "import pandas as pd\n",
    "import numpy as np\n",
    "\n",
    "\n",
    "tips = pd.read_csv('data/tips.csv', delimiter=',')\n",
    "\n",
    "# Operations on Columns / similar Formulas in Spreadsheets e.g. =A1 + B1\n",
    "tips['total_bill'] = tips['total_bill'] - 2\n",
    "tips['new_bill'] = tips['total_bill'] / 2\n",
    "\n",
    "# Filter Rows / similar Filter in Spreadsheets e.g. Filter\n",
    "# tips = tips[tips['new_bill'] > 10]\n",
    "# is_dinner = tips['time'] == 'Dinner'\n",
    "# tips = tips[is_dinner]\n",
    "# print(tips['new_bill'].count())\n",
    "\n",
    "# Conditional Column Creation / similar IF Statements in Spreadsheets e.g. =IF(A1 < 10, \"low\", \"high\")\n",
    "tips['bucket'] = np.where(tips['total_bill'] < 10, 'low', 'high')\n",
    "filter_bucket = tips['bucket'] == 'high'\n",
    "# tips = tips[filter_bucket]\n",
    "\n",
    "# Date Functions / Date and Time Functions in Spreadsheets\n",
    "tips['date1'] = pd.Timestamp('2013-01-15')\n",
    "tips['date2'] = pd.Timestamp('2015-02-15')\n",
    "tips['date1_year'] = tips['date1'].dt.year  # Extract year from date / =YEAR(K2) in Spreadsheets\n",
    "tips['date2_month'] = tips['date2'].dt.month # Extract month from date / =MONTH(K2) in Spreadsheets\n",
    "tips['date1_next'] = tips['date1'] + pd.offsets.MonthBegin() # Add one month to date / =DATE(YEAR(K2);MONTH(K2)+1;1) Spreadsheets\n",
    "tips['months_between'] = tips['date2'].dt.to_period('M') - tips['date1'].dt.to_period('M') # Difference in months between two dates / =DATEDIF(K2;L2;\"M\") in Spreadsheets\n",
    "\n",
    "# Selecting Columns / Selecting Cells in Spreadsheets\n",
    "# tips[['total_bill', 'tip']]  # Select multiple columns\n",
    "# tips.drop(\"sex\", axis=1, inplace=True)  # Drop a column\n",
    "# tips.rename(columns={'total_bill': 'total_bill2'}, inplace=True)  # Rename a column\n",
    "\n",
    "# tips = tips.sort_values(['sex'], ascending=True)  # Sort by a column\n",
    "\n",
    "# print(tips['time'].str.len())  # String length of column / =LEN(C2) in Spreadsheets\n",
    "tips['FIND()'] = tips['sex'].str.find('ale') # String search /= FIND('ale';C2) in Spreadsheets\n",
    "tips['MID()'] = tips['sex'].str[0:1] # String slicing / =MID(C2;1;1) in Spreadsheets\n",
    "print(tips)\n",
    "\n",
    "\n"
   ],
   "id": "e423db6f47ed99f0",
   "outputs": [
    {
     "name": "stdout",
     "output_type": "stream",
     "text": [
      "     total_bill   tip     sex smoker   day    time  size  new_bill bucket  \\\n",
      "0         14.99  1.01  Female     No   Sun  Dinner     2     7.495   high   \n",
      "1          8.34  1.66    Male     No   Sun  Dinner     3     4.170    low   \n",
      "2         19.01  3.50    Male     No   Sun  Dinner     3     9.505   high   \n",
      "3         21.68  3.31    Male     No   Sun  Dinner     2    10.840   high   \n",
      "4         22.59  3.61  Female     No   Sun  Dinner     4    11.295   high   \n",
      "..          ...   ...     ...    ...   ...     ...   ...       ...    ...   \n",
      "239       27.03  5.92    Male     No   Sat  Dinner     3    13.515   high   \n",
      "240       25.18  2.00  Female    Yes   Sat  Dinner     2    12.590   high   \n",
      "241       20.67  2.00    Male    Yes   Sat  Dinner     2    10.335   high   \n",
      "242       15.82  1.75    Male     No   Sat  Dinner     2     7.910   high   \n",
      "243       16.78  3.00  Female     No  Thur  Dinner     2     8.390   high   \n",
      "\n",
      "         date1      date2  date1_year  date2_month date1_next  \\\n",
      "0   2013-01-15 2015-02-15        2013            2 2013-02-01   \n",
      "1   2013-01-15 2015-02-15        2013            2 2013-02-01   \n",
      "2   2013-01-15 2015-02-15        2013            2 2013-02-01   \n",
      "3   2013-01-15 2015-02-15        2013            2 2013-02-01   \n",
      "4   2013-01-15 2015-02-15        2013            2 2013-02-01   \n",
      "..         ...        ...         ...          ...        ...   \n",
      "239 2013-01-15 2015-02-15        2013            2 2013-02-01   \n",
      "240 2013-01-15 2015-02-15        2013            2 2013-02-01   \n",
      "241 2013-01-15 2015-02-15        2013            2 2013-02-01   \n",
      "242 2013-01-15 2015-02-15        2013            2 2013-02-01   \n",
      "243 2013-01-15 2015-02-15        2013            2 2013-02-01   \n",
      "\n",
      "       months_between  FIND() MID()  \n",
      "0    <25 * MonthEnds>       3     F  \n",
      "1    <25 * MonthEnds>       1     M  \n",
      "2    <25 * MonthEnds>       1     M  \n",
      "3    <25 * MonthEnds>       1     M  \n",
      "4    <25 * MonthEnds>       3     F  \n",
      "..                ...     ...   ...  \n",
      "239  <25 * MonthEnds>       1     M  \n",
      "240  <25 * MonthEnds>       3     F  \n",
      "241  <25 * MonthEnds>       1     M  \n",
      "242  <25 * MonthEnds>       1     M  \n",
      "243  <25 * MonthEnds>       3     F  \n",
      "\n",
      "[244 rows x 17 columns]\n"
     ]
    }
   ],
   "execution_count": 1
  },
  {
   "metadata": {},
   "cell_type": "markdown",
   "source": [
    "# Extracting nth word\n",
    "In Excel, you might use the [Text to Columns Wizard](https://support.microsoft.com/en-us/office/split-text-into-different-columns-with-the-convert-text-to-columns-wizard-30b14928-5550-41f5-97ca-7a3e9c363ed7) for splitting text and retrieving a specific column. (Note it’s possible to do so through a formula as well.)\n",
    "\n",
    "The simplest way to extract words in pandas is to split the strings by spaces, then reference the word by index. Note there are more powerful approaches should you need them."
   ],
   "id": "1b675c9ed48a593a"
  },
  {
   "metadata": {
    "ExecuteTime": {
     "end_time": "2025-07-18T04:58:39.213076Z",
     "start_time": "2025-07-18T04:58:39.184550Z"
    }
   },
   "cell_type": "code",
   "source": [
    "df = pd.DataFrame({'String': ['John Smith', 'Jane Doe', 'Alice Johnson']})\n",
    "\n",
    "\n",
    "# Extracting first and last names / similar to using Data > Text to Columns in Spreadsheets\n",
    "df['first_name'] = df['String'].str.split(\" \", expand=True)[0]  # Extract first word\n",
    "df['last_name'] = df['String'].str.split(\" \", expand=True)[1]  # Extract second word\n",
    "\n",
    "\n",
    "# Convert first name to uppercase and last name to lowercase\n",
    "df['upper'] = df['first_name'].str.upper() # Convert to uppercase / similar =UPPER(C2) in Spreadsheets\n",
    "df['lower'] = df['last_name'].str.lower()  # Convert to lowercase / similar =LOWER(C2) in Spreadsheets\n",
    "df['title'] = df['String'].str.title() # Convert to title case / similar =PROPER(C2) in Spreadsheets\n",
    "\n",
    "df\n"
   ],
   "id": "583978922b3205ea",
   "outputs": [
    {
     "data": {
      "text/plain": [
       "          String first_name last_name  upper    lower          title\n",
       "0     John Smith       John     Smith   JOHN    smith     John Smith\n",
       "1       Jane Doe       Jane       Doe   JANE      doe       Jane Doe\n",
       "2  Alice Johnson      Alice   Johnson  ALICE  johnson  Alice Johnson"
      ],
      "text/html": [
       "<div>\n",
       "<style scoped>\n",
       "    .dataframe tbody tr th:only-of-type {\n",
       "        vertical-align: middle;\n",
       "    }\n",
       "\n",
       "    .dataframe tbody tr th {\n",
       "        vertical-align: top;\n",
       "    }\n",
       "\n",
       "    .dataframe thead th {\n",
       "        text-align: right;\n",
       "    }\n",
       "</style>\n",
       "<table border=\"1\" class=\"dataframe\">\n",
       "  <thead>\n",
       "    <tr style=\"text-align: right;\">\n",
       "      <th></th>\n",
       "      <th>String</th>\n",
       "      <th>first_name</th>\n",
       "      <th>last_name</th>\n",
       "      <th>upper</th>\n",
       "      <th>lower</th>\n",
       "      <th>title</th>\n",
       "    </tr>\n",
       "  </thead>\n",
       "  <tbody>\n",
       "    <tr>\n",
       "      <th>0</th>\n",
       "      <td>John Smith</td>\n",
       "      <td>John</td>\n",
       "      <td>Smith</td>\n",
       "      <td>JOHN</td>\n",
       "      <td>smith</td>\n",
       "      <td>John Smith</td>\n",
       "    </tr>\n",
       "    <tr>\n",
       "      <th>1</th>\n",
       "      <td>Jane Doe</td>\n",
       "      <td>Jane</td>\n",
       "      <td>Doe</td>\n",
       "      <td>JANE</td>\n",
       "      <td>doe</td>\n",
       "      <td>Jane Doe</td>\n",
       "    </tr>\n",
       "    <tr>\n",
       "      <th>2</th>\n",
       "      <td>Alice Johnson</td>\n",
       "      <td>Alice</td>\n",
       "      <td>Johnson</td>\n",
       "      <td>ALICE</td>\n",
       "      <td>johnson</td>\n",
       "      <td>Alice Johnson</td>\n",
       "    </tr>\n",
       "  </tbody>\n",
       "</table>\n",
       "</div>"
      ]
     },
     "execution_count": 8,
     "metadata": {},
     "output_type": "execute_result"
    }
   ],
   "execution_count": 8
  },
  {
   "metadata": {},
   "cell_type": "markdown",
   "source": [
    "# Merging\n",
    "[In Excel, there are merging of tables can be done through a VLOOKUP.](https://support.microsoft.com/en-us/office/how-can-i-merge-two-or-more-tables-c80a9fce-c1ab-4425-bb96-497dd906d656)"
   ],
   "id": "7cb88df00e0cfde2"
  },
  {
   "metadata": {
    "ExecuteTime": {
     "end_time": "2025-07-18T04:36:13.490527Z",
     "start_time": "2025-07-18T04:36:13.448964Z"
    }
   },
   "cell_type": "code",
   "source": [
    "df1 = pd.DataFrame({'key': ['A', 'B', 'C', 'D'], 'Value': np.random.randn(4)})\n",
    "df2 = pd.DataFrame({'key': [ 'B', 'D', 'D', 'E'], 'Value': np.random.rand(4)})\n",
    "\n",
    "\n",
    "inner_join = df1.merge(df2, on=['key'], how='inner')\n",
    "outer_join = df1.merge(df2, on=['key'], how='outer')\n",
    "left_join = df1.merge(df2, on=['key'], how='left') # Left Join / similar to =VLOOKUP in Excel\n",
    "right_join = df1.merge(df2, on=['key'], how='right')\n",
    "\n",
    "\n",
    "left_join"
   ],
   "id": "7081924e38d3185a",
   "outputs": [
    {
     "data": {
      "text/plain": [
       "  key   Value_x   Value_y\n",
       "0   A -0.651565       NaN\n",
       "1   B -0.677226  0.136728\n",
       "2   C -0.804261       NaN\n",
       "3   D  1.312711  0.296462\n",
       "4   D  1.312711  0.918778"
      ],
      "text/html": [
       "<div>\n",
       "<style scoped>\n",
       "    .dataframe tbody tr th:only-of-type {\n",
       "        vertical-align: middle;\n",
       "    }\n",
       "\n",
       "    .dataframe tbody tr th {\n",
       "        vertical-align: top;\n",
       "    }\n",
       "\n",
       "    .dataframe thead th {\n",
       "        text-align: right;\n",
       "    }\n",
       "</style>\n",
       "<table border=\"1\" class=\"dataframe\">\n",
       "  <thead>\n",
       "    <tr style=\"text-align: right;\">\n",
       "      <th></th>\n",
       "      <th>key</th>\n",
       "      <th>Value_x</th>\n",
       "      <th>Value_y</th>\n",
       "    </tr>\n",
       "  </thead>\n",
       "  <tbody>\n",
       "    <tr>\n",
       "      <th>0</th>\n",
       "      <td>A</td>\n",
       "      <td>-0.651565</td>\n",
       "      <td>NaN</td>\n",
       "    </tr>\n",
       "    <tr>\n",
       "      <th>1</th>\n",
       "      <td>B</td>\n",
       "      <td>-0.677226</td>\n",
       "      <td>0.136728</td>\n",
       "    </tr>\n",
       "    <tr>\n",
       "      <th>2</th>\n",
       "      <td>C</td>\n",
       "      <td>-0.804261</td>\n",
       "      <td>NaN</td>\n",
       "    </tr>\n",
       "    <tr>\n",
       "      <th>3</th>\n",
       "      <td>D</td>\n",
       "      <td>1.312711</td>\n",
       "      <td>0.296462</td>\n",
       "    </tr>\n",
       "    <tr>\n",
       "      <th>4</th>\n",
       "      <td>D</td>\n",
       "      <td>1.312711</td>\n",
       "      <td>0.918778</td>\n",
       "    </tr>\n",
       "  </tbody>\n",
       "</table>\n",
       "</div>"
      ]
     },
     "execution_count": 3,
     "metadata": {},
     "output_type": "execute_result"
    }
   ],
   "execution_count": 3
  },
  {
   "metadata": {},
   "cell_type": "markdown",
   "source": [
    "# Fill Handle\n",
    "Create a series of numbers following a set pattern in a certain set of cells. [In a spreadsheet, this would be done by shift+drag after entering the first number or by entering the first two or three values and then dragging.](https://www.w3schools.com/excel/excel_filling.php)"
   ],
   "id": "1bdb761190781793"
  },
  {
   "metadata": {
    "ExecuteTime": {
     "end_time": "2025-07-18T05:50:33.163046Z",
     "start_time": "2025-07-18T05:50:33.147979Z"
    }
   },
   "cell_type": "code",
   "source": [
    "df = pd.DataFrame({'AAA': [1] * 8, 'BBB': list(range(8))})\n",
    "\n",
    "df"
   ],
   "id": "aae48c011a3dd7e3",
   "outputs": [
    {
     "data": {
      "text/plain": [
       "   AAA  BBB\n",
       "0    1    0\n",
       "1    1    1\n",
       "2    1    2\n",
       "3    1    3\n",
       "4    1    4\n",
       "5    1    5\n",
       "6    1    6\n",
       "7    1    7"
      ],
      "text/html": [
       "<div>\n",
       "<style scoped>\n",
       "    .dataframe tbody tr th:only-of-type {\n",
       "        vertical-align: middle;\n",
       "    }\n",
       "\n",
       "    .dataframe tbody tr th {\n",
       "        vertical-align: top;\n",
       "    }\n",
       "\n",
       "    .dataframe thead th {\n",
       "        text-align: right;\n",
       "    }\n",
       "</style>\n",
       "<table border=\"1\" class=\"dataframe\">\n",
       "  <thead>\n",
       "    <tr style=\"text-align: right;\">\n",
       "      <th></th>\n",
       "      <th>AAA</th>\n",
       "      <th>BBB</th>\n",
       "    </tr>\n",
       "  </thead>\n",
       "  <tbody>\n",
       "    <tr>\n",
       "      <th>0</th>\n",
       "      <td>1</td>\n",
       "      <td>0</td>\n",
       "    </tr>\n",
       "    <tr>\n",
       "      <th>1</th>\n",
       "      <td>1</td>\n",
       "      <td>1</td>\n",
       "    </tr>\n",
       "    <tr>\n",
       "      <th>2</th>\n",
       "      <td>1</td>\n",
       "      <td>2</td>\n",
       "    </tr>\n",
       "    <tr>\n",
       "      <th>3</th>\n",
       "      <td>1</td>\n",
       "      <td>3</td>\n",
       "    </tr>\n",
       "    <tr>\n",
       "      <th>4</th>\n",
       "      <td>1</td>\n",
       "      <td>4</td>\n",
       "    </tr>\n",
       "    <tr>\n",
       "      <th>5</th>\n",
       "      <td>1</td>\n",
       "      <td>5</td>\n",
       "    </tr>\n",
       "    <tr>\n",
       "      <th>6</th>\n",
       "      <td>1</td>\n",
       "      <td>6</td>\n",
       "    </tr>\n",
       "    <tr>\n",
       "      <th>7</th>\n",
       "      <td>1</td>\n",
       "      <td>7</td>\n",
       "    </tr>\n",
       "  </tbody>\n",
       "</table>\n",
       "</div>"
      ]
     },
     "execution_count": 12,
     "metadata": {},
     "output_type": "execute_result"
    }
   ],
   "execution_count": 12
  },
  {
   "metadata": {},
   "cell_type": "markdown",
   "source": [
    "# Drop Duplicates\n",
    "Excel has built-in functionality for [removing duplicate values](https://support.microsoft.com/en-us/office/find-and-remove-duplicates-00e35bea-b46a-4d5d-b28e-66a552dc138d). This is supported in pandas via [drop_duplicates()](https://pandas.pydata.org/docs/reference/api/pandas.DataFrame.drop_duplicates.html#pandas.DataFrame.drop_duplicates)."
   ],
   "id": "7e274cb3410c2959"
  },
  {
   "metadata": {
    "ExecuteTime": {
     "end_time": "2025-07-18T06:35:58.483162Z",
     "start_time": "2025-07-18T06:35:58.366144Z"
    }
   },
   "cell_type": "code",
   "source": [
    "df = pd.DataFrame(\n",
    "    {\n",
    "        \"class\": [\"A\", \"A\", \"A\", \"B\", \"C\", \"D\"],\n",
    "        \"student_count\": [42, 35, 42, 50, 47, 45],\n",
    "        \"all_pass\": [\"Yes\", \"Yes\", \"Yes\", \"No\", \"No\", \"Yes\"],\n",
    "    }\n",
    ")\n",
    "\n",
    "# df.drop_duplicates() # Drop duplicate / similar to Data > Remove Duplicates in Spreadsheets\n",
    "df.drop_duplicates(['class', 'student_count'])  # Drop duplicates based on specific columns"
   ],
   "id": "a10dab844aa44335",
   "outputs": [
    {
     "data": {
      "text/plain": [
       "  class  student_count all_pass\n",
       "0     A             42      Yes\n",
       "1     A             35      Yes\n",
       "3     B             50       No\n",
       "4     C             47       No\n",
       "5     D             45      Yes"
      ],
      "text/html": [
       "<div>\n",
       "<style scoped>\n",
       "    .dataframe tbody tr th:only-of-type {\n",
       "        vertical-align: middle;\n",
       "    }\n",
       "\n",
       "    .dataframe tbody tr th {\n",
       "        vertical-align: top;\n",
       "    }\n",
       "\n",
       "    .dataframe thead th {\n",
       "        text-align: right;\n",
       "    }\n",
       "</style>\n",
       "<table border=\"1\" class=\"dataframe\">\n",
       "  <thead>\n",
       "    <tr style=\"text-align: right;\">\n",
       "      <th></th>\n",
       "      <th>class</th>\n",
       "      <th>student_count</th>\n",
       "      <th>all_pass</th>\n",
       "    </tr>\n",
       "  </thead>\n",
       "  <tbody>\n",
       "    <tr>\n",
       "      <th>0</th>\n",
       "      <td>A</td>\n",
       "      <td>42</td>\n",
       "      <td>Yes</td>\n",
       "    </tr>\n",
       "    <tr>\n",
       "      <th>1</th>\n",
       "      <td>A</td>\n",
       "      <td>35</td>\n",
       "      <td>Yes</td>\n",
       "    </tr>\n",
       "    <tr>\n",
       "      <th>3</th>\n",
       "      <td>B</td>\n",
       "      <td>50</td>\n",
       "      <td>No</td>\n",
       "    </tr>\n",
       "    <tr>\n",
       "      <th>4</th>\n",
       "      <td>C</td>\n",
       "      <td>47</td>\n",
       "      <td>No</td>\n",
       "    </tr>\n",
       "    <tr>\n",
       "      <th>5</th>\n",
       "      <td>D</td>\n",
       "      <td>45</td>\n",
       "      <td>Yes</td>\n",
       "    </tr>\n",
       "  </tbody>\n",
       "</table>\n",
       "</div>"
      ]
     },
     "execution_count": 17,
     "metadata": {},
     "output_type": "execute_result"
    }
   ],
   "execution_count": 17
  },
  {
   "metadata": {},
   "cell_type": "markdown",
   "source": [
    "# Pivot Tables\n",
    "[PivotTables](https://support.microsoft.com/en-us/office/create-a-pivottable-to-analyze-worksheet-data-a9a84538-bfe9-40a9-a8e9-f99134456576) from spreadsheets can be replicated in pandas through [Reshaping and pivot tables](https://pandas.pydata.org/docs/getting_started/comparison/comparison_with_spreadsheets.html#other-considerations). Using the tips dataset again, let’s find the average gratuity by size of the party and sex of the server."
   ],
   "id": "7a7a1c7c8beb8ad5"
  },
  {
   "metadata": {
    "ExecuteTime": {
     "end_time": "2025-07-18T09:45:45.813399Z",
     "start_time": "2025-07-18T09:45:45.744941Z"
    }
   },
   "cell_type": "code",
   "source": [
    "tips = pd.read_csv('data/tips.csv')\n",
    "\n",
    "# pivot_table = pd.pivot_table(tips, values='tip', index=['size'], columns=['sex'], aggfunc=np.average)  # Create a pivot table with average / similar to PivotTable in Spreadsheets\n",
    "\n",
    "# or alternatively using pivot_table method\n",
    "pivot = tips.pivot_table(values='tip', index=['size'], columns=['sex'], aggfunc=np.average)\n",
    "\n",
    "pivot"
   ],
   "id": "664ca1822c8ba899",
   "outputs": [
    {
     "data": {
      "text/plain": [
       "sex     Female      Male\n",
       "size                    \n",
       "1     1.276667  1.920000\n",
       "2     2.528448  2.614184\n",
       "3     3.250000  3.476667\n",
       "4     4.021111  4.172143\n",
       "5     5.140000  3.750000\n",
       "6     4.600000  5.850000"
      ],
      "text/html": [
       "<div>\n",
       "<style scoped>\n",
       "    .dataframe tbody tr th:only-of-type {\n",
       "        vertical-align: middle;\n",
       "    }\n",
       "\n",
       "    .dataframe tbody tr th {\n",
       "        vertical-align: top;\n",
       "    }\n",
       "\n",
       "    .dataframe thead th {\n",
       "        text-align: right;\n",
       "    }\n",
       "</style>\n",
       "<table border=\"1\" class=\"dataframe\">\n",
       "  <thead>\n",
       "    <tr style=\"text-align: right;\">\n",
       "      <th>sex</th>\n",
       "      <th>Female</th>\n",
       "      <th>Male</th>\n",
       "    </tr>\n",
       "    <tr>\n",
       "      <th>size</th>\n",
       "      <th></th>\n",
       "      <th></th>\n",
       "    </tr>\n",
       "  </thead>\n",
       "  <tbody>\n",
       "    <tr>\n",
       "      <th>1</th>\n",
       "      <td>1.276667</td>\n",
       "      <td>1.920000</td>\n",
       "    </tr>\n",
       "    <tr>\n",
       "      <th>2</th>\n",
       "      <td>2.528448</td>\n",
       "      <td>2.614184</td>\n",
       "    </tr>\n",
       "    <tr>\n",
       "      <th>3</th>\n",
       "      <td>3.250000</td>\n",
       "      <td>3.476667</td>\n",
       "    </tr>\n",
       "    <tr>\n",
       "      <th>4</th>\n",
       "      <td>4.021111</td>\n",
       "      <td>4.172143</td>\n",
       "    </tr>\n",
       "    <tr>\n",
       "      <th>5</th>\n",
       "      <td>5.140000</td>\n",
       "      <td>3.750000</td>\n",
       "    </tr>\n",
       "    <tr>\n",
       "      <th>6</th>\n",
       "      <td>4.600000</td>\n",
       "      <td>5.850000</td>\n",
       "    </tr>\n",
       "  </tbody>\n",
       "</table>\n",
       "</div>"
      ]
     },
     "execution_count": 28,
     "metadata": {},
     "output_type": "execute_result"
    }
   ],
   "execution_count": 28
  },
  {
   "metadata": {},
   "cell_type": "markdown",
   "source": [
    "# Find and Replace\n",
    "[Excel’s Find dialog](https://support.microsoft.com/en-us/office/find-or-replace-text-and-numbers-on-a-worksheet-0e304ca5-ecef-4808-b90f-fdb42f892e90) takes you to cells that match, one by one. In pandas, this operation is generally done for an entire column or `DataFrame` at once through [conditional expressions](https://pandas.pydata.org/docs/getting_started/intro_tutorials/03_subset_data.html#min-tut-03-subset-rows-and-columns)."
   ],
   "id": "7c8840bb2d91abb7"
  },
  {
   "metadata": {
    "ExecuteTime": {
     "end_time": "2025-07-18T10:34:49.037673Z",
     "start_time": "2025-07-18T10:34:49.001359Z"
    }
   },
   "cell_type": "code",
   "source": [
    "tips = pd.read_csv('data/tips.csv')\n",
    "\n",
    "# tips == 'Sun' # Find all rows where 'day' is 'Sun' / similar to Find in Spreadsheets\n",
    "# or\n",
    "# tips['day'].str.contains('Sun')  # Find all rows where 'day' contains 'Sun' / similar to Find in Spreadsheets)\n",
    "\n",
    "tips.replace('Thur', 'Thursday', inplace=True)  # Replace 'Thu' with 'Thursday' in the 'day' column / similar to Replace All in Spreadsheets\n",
    "\n",
    "print(tips[tips['day'] == 'Thursday'])  # Display rows where 'day' is 'Thursday'"
   ],
   "id": "1fd2690a57b0cc0a",
   "outputs": [
    {
     "name": "stdout",
     "output_type": "stream",
     "text": [
      "     total_bill   tip     sex smoker       day    time  size\n",
      "77        27.20  4.00    Male     No  Thursday   Lunch     4\n",
      "78        22.76  3.00    Male     No  Thursday   Lunch     2\n",
      "79        17.29  2.71    Male     No  Thursday   Lunch     2\n",
      "80        19.44  3.00    Male    Yes  Thursday   Lunch     2\n",
      "81        16.66  3.40    Male     No  Thursday   Lunch     2\n",
      "..          ...   ...     ...    ...       ...     ...   ...\n",
      "202       13.00  2.00  Female    Yes  Thursday   Lunch     2\n",
      "203       16.40  2.50  Female    Yes  Thursday   Lunch     2\n",
      "204       20.53  4.00    Male    Yes  Thursday   Lunch     4\n",
      "205       16.47  3.23  Female    Yes  Thursday   Lunch     3\n",
      "243       18.78  3.00  Female     No  Thursday  Dinner     2\n",
      "\n",
      "[62 rows x 7 columns]\n"
     ]
    }
   ],
   "execution_count": 36
  }
 ],
 "metadata": {
  "kernelspec": {
   "display_name": "Python 3",
   "language": "python",
   "name": "python3"
  },
  "language_info": {
   "codemirror_mode": {
    "name": "ipython",
    "version": 2
   },
   "file_extension": ".py",
   "mimetype": "text/x-python",
   "name": "python",
   "nbconvert_exporter": "python",
   "pygments_lexer": "ipython2",
   "version": "2.7.6"
  }
 },
 "nbformat": 4,
 "nbformat_minor": 5
}
