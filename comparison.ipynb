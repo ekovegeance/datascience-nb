{
 "cells": [
  {
   "metadata": {},
   "cell_type": "markdown",
   "source": [
    "# Comparison\n",
    "[Comparison with spreadsheets](https://pandas.pydata.org/docs/getting_started/comparison/comparison_with_spreadsheets.html)\n",
    "Since many potential pandas users have some familiarity with spreadsheet programs like Excel, this page is meant to provide some examples of how various spreadsheet operations would be performed using pandas. This page will use terminology and link to documentation for Excel, but much will be the same/similar in Google Sheets, LibreOffice Calc, Apple Numbers, and other Excel-compatible spreadsheet software."
   ],
   "id": "397b101aed346de"
  },
  {
   "metadata": {
    "ExecuteTime": {
     "end_time": "2025-07-16T10:20:56.079189Z",
     "start_time": "2025-07-16T10:20:56.041839Z"
    }
   },
   "cell_type": "code",
   "source": [
    "import pandas as pd\n",
    "import numpy as np\n",
    "\n",
    "\n",
    "tips = pd.read_csv('data/tips.csv', delimiter=',')\n",
    "\n",
    "# Operations on Columns / Formulas in Spreadsheets\n",
    "tips['total_bill'] = tips['total_bill'] - 2\n",
    "tips['new_bill'] = tips['total_bill'] / 2\n",
    "\n",
    "# Filter\n",
    "# tips = tips[tips['new_bill'] > 10]\n",
    "# is_dinner = tips['time'] == 'Dinner'\n",
    "# tips = tips[is_dinner]\n",
    "# print(tips['new_bill'].count())\n",
    "\n",
    "# Conditional Column Creation / IF Statements in Spreadsheets e.g. IF(A1 < 10, \"low\", \"high\")\n",
    "tips['bucket'] = np.where(tips['total_bill'] < 10, 'low', 'high')\n",
    "filter_bucket = tips['bucket'] == 'high'\n",
    "# tips = tips[filter_bucket]\n",
    "\n",
    "# Date Functions / Date and Time Functions in Spreadsheets\n",
    "tips['date1'] = pd.Timestamp('2013-01-15')\n",
    "tips['date2'] = pd.Timestamp('2015-02-15')\n",
    "tips['date1_year'] = tips['date1'].dt.year\n",
    "tips['date2_month'] = tips['date2'].dt.month\n",
    "tips['date1_next'] = tips['date1'] + pd.offsets.MonthBegin()\n",
    "tips['months_between'] = tips['date2'].dt.to_period('M') - tips['date1'].dt.to_period('M')\n",
    "\n",
    "# Selecting Columns / Selecting Cells in Spreadsheets\n",
    "# tips[['total_bill', 'tip']]  # Select multiple columns\n",
    "# tips.drop(\"sex\", axis=1, inplace=True)  # Drop a column\n",
    "# tips.rename(columns={'total_bill': 'total_bill2'}, inplace=True)  # Rename a column\n",
    "\n",
    "# tips = tips.sort_values(['sex'], ascending=True)  # Sort by a column\n",
    "\n",
    "# print(tips['time'].str.len())  # String length of column\n",
    "tips['sex'].str.find('ale') # String search / FIND() in Spreadsheets\n",
    "# print(tips)\n",
    "\n",
    "\n"
   ],
   "id": "e423db6f47ed99f0",
   "outputs": [
    {
     "data": {
      "text/plain": [
       "0      3\n",
       "1      1\n",
       "2      1\n",
       "3      1\n",
       "4      3\n",
       "      ..\n",
       "239    1\n",
       "240    3\n",
       "241    1\n",
       "242    1\n",
       "243    3\n",
       "Name: sex, Length: 244, dtype: int64"
      ]
     },
     "execution_count": 11,
     "metadata": {},
     "output_type": "execute_result"
    }
   ],
   "execution_count": 11
  }
 ],
 "metadata": {
  "kernelspec": {
   "display_name": "Python 3",
   "language": "python",
   "name": "python3"
  },
  "language_info": {
   "codemirror_mode": {
    "name": "ipython",
    "version": 2
   },
   "file_extension": ".py",
   "mimetype": "text/x-python",
   "name": "python",
   "nbconvert_exporter": "python",
   "pygments_lexer": "ipython2",
   "version": "2.7.6"
  }
 },
 "nbformat": 4,
 "nbformat_minor": 5
}
