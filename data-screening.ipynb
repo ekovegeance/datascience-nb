{
 "cells": [
  {
   "metadata": {},
   "cell_type": "markdown",
   "source": "# Data Screening",
   "id": "1d74a4861e915e6c"
  },
  {
   "metadata": {},
   "cell_type": "markdown",
   "source": "**Data Description:**",
   "id": "26f13d09517a6bb5"
  },
  {
   "metadata": {
    "ExecuteTime": {
     "end_time": "2025-07-22T07:56:00.104740Z",
     "start_time": "2025-07-22T07:55:59.941015Z"
    }
   },
   "cell_type": "code",
   "source": [
    "import pandas as pd\n",
    "from termcolor import cprint\n",
    "\n",
    "\n",
    "data = pd.read_csv('data/data_nasabah.csv', delimiter=';')\n",
    "\n",
    "cprint(f\"Data (rows, columns): {data.shape}\", \"green\")  # Show the shape of the DataFrame (rows, columns)\n",
    "cprint(\"\\nInformation data types and encoding\", \"blue\")  # Display data types and encoding scheme\n",
    "print(data.info())\n",
    "\n",
    "cprint(\"\\nData descriptive statistics for numerical data:\", \"blue\")  # Display descriptive statistics for numerical data\n",
    "print(data.describe())\n",
    "\n",
    "# Unique values for each column\n",
    "for column in data.columns:\n",
    "    print(f\"{column}: {data[column].nunique()} unique values\")\n",
    "\n",
    "# Ensure categorical columns are encoded numerically\n",
    "data['jenis_kelamin'] = data['jenis_kelamin'].map({'Laki-Laki': 1, 'Perempuan': 2})\n",
    "data['jenis_produk'] = data['jenis_produk'].map({'tabungan': 1, 'kartu_kredit': 2, 'deposito': 3})\n",
    "data['pengguna_mobile_banking'] = data['pengguna_mobile_banking'].map({'YA': 1, 'TIDAK': 2})\n",
    "\n",
    "cprint(\"\\nShow DataFrame\", \"blue\")  # Display the first few rows of the DataFrame\n",
    "print(data.head())"
   ],
   "id": "a2ec77047ae1aa4b",
   "outputs": [
    {
     "name": "stdout",
     "output_type": "stream",
     "text": [
      "\u001B[32mData (rows, columns): (100, 10)\u001B[0m\n",
      "\u001B[34m\n",
      "Information data types and encoding\u001B[0m\n",
      "<class 'pandas.core.frame.DataFrame'>\n",
      "RangeIndex: 100 entries, 0 to 99\n",
      "Data columns (total 10 columns):\n",
      " #   Column                     Non-Null Count  Dtype \n",
      "---  ------                     --------------  ----- \n",
      " 0   nasabah_id                 100 non-null    object\n",
      " 1   umur                       100 non-null    int64 \n",
      " 2   jenis_kelamin              100 non-null    object\n",
      " 3   pendapatan                 100 non-null    int64 \n",
      " 4   saldo_rata_rata            100 non-null    int64 \n",
      " 5   jumlah_transaksi           100 non-null    int64 \n",
      " 6   jenis_produk               100 non-null    object\n",
      " 7   frekuensi_kunjungi_cabang  100 non-null    int64 \n",
      " 8   pengguna_mobile_banking    100 non-null    object\n",
      " 9   skor_kredit                100 non-null    int64 \n",
      "dtypes: int64(6), object(4)\n",
      "memory usage: 7.9+ KB\n",
      "None\n",
      "\u001B[34m\n",
      "Data descriptive statistics for numerical data:\u001B[0m\n",
      "             umur    pendapatan  saldo_rata_rata  jumlah_transaksi  \\\n",
      "count  100.000000  1.000000e+02     1.000000e+02         100.00000   \n",
      "mean    43.380000  4.555500e+06     8.159000e+05          12.78000   \n",
      "std     13.232788  1.587004e+06     4.634987e+05           6.72036   \n",
      "min     20.000000  2.800000e+06     1.475000e+05           2.00000   \n",
      "25%     32.000000  3.100000e+06     4.485000e+05           7.75000   \n",
      "50%     45.000000  3.475000e+06     7.652500e+05          13.00000   \n",
      "75%     54.250000  6.225000e+06     1.050000e+06          18.25000   \n",
      "max     64.000000  7.000000e+06     1.972000e+06          25.00000   \n",
      "\n",
      "       frekuensi_kunjungi_cabang  skor_kredit  \n",
      "count                 100.000000   100.000000  \n",
      "mean                    2.700000   698.000000  \n",
      "std                     1.494096   149.057646  \n",
      "min                     1.000000   500.000000  \n",
      "25%                     1.000000   600.000000  \n",
      "50%                     3.000000   700.000000  \n",
      "75%                     4.000000   800.000000  \n",
      "max                     5.000000   900.000000  \n",
      "nasabah_id: 100 unique values\n",
      "umur: 40 unique values\n",
      "jenis_kelamin: 2 unique values\n",
      "pendapatan: 30 unique values\n",
      "saldo_rata_rata: 90 unique values\n",
      "jumlah_transaksi: 24 unique values\n",
      "jenis_produk: 3 unique values\n",
      "frekuensi_kunjungi_cabang: 5 unique values\n",
      "pengguna_mobile_banking: 2 unique values\n",
      "skor_kredit: 5 unique values\n",
      "\u001B[34m\n",
      "Show DataFrame\u001B[0m\n",
      "  nasabah_id  umur  jenis_kelamin  pendapatan  saldo_rata_rata  \\\n",
      "0       N001    22              2     5800000          1508000   \n",
      "1       N002    64              2     5700000          1254000   \n",
      "2       N003    27              2     2950000           590000   \n",
      "3       N004    34              2     3100000           186000   \n",
      "4       N005    45              1     6700000          1474000   \n",
      "\n",
      "   jumlah_transaksi  jenis_produk  frekuensi_kunjungi_cabang  \\\n",
      "0                19             1                          1   \n",
      "1                 9             2                          2   \n",
      "2                12             1                          1   \n",
      "3                16             3                          5   \n",
      "4                15             2                          3   \n",
      "\n",
      "   pengguna_mobile_banking  skor_kredit  \n",
      "0                        2          900  \n",
      "1                        2          900  \n",
      "2                        1          500  \n",
      "3                        2          700  \n",
      "4                        1          800  \n"
     ]
    }
   ],
   "execution_count": 37
  },
  {
   "metadata": {},
   "cell_type": "markdown",
   "source": "**Data Exploration:**",
   "id": "a4b79dc0cfef5d46"
  },
  {
   "metadata": {},
   "cell_type": "code",
   "outputs": [],
   "execution_count": null,
   "source": "",
   "id": "ace498c37d0b67e"
  }
 ],
 "metadata": {
  "kernelspec": {
   "display_name": "Python 3",
   "language": "python",
   "name": "python3"
  },
  "language_info": {
   "codemirror_mode": {
    "name": "ipython",
    "version": 2
   },
   "file_extension": ".py",
   "mimetype": "text/x-python",
   "name": "python",
   "nbconvert_exporter": "python",
   "pygments_lexer": "ipython2",
   "version": "2.7.6"
  }
 },
 "nbformat": 4,
 "nbformat_minor": 5
}
