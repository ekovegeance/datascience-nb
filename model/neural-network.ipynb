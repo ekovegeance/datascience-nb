{
 "cells": [
  {
   "metadata": {
    "ExecuteTime": {
     "end_time": "2025-08-05T07:22:28.344617Z",
     "start_time": "2025-08-05T07:22:28.317333Z"
    }
   },
   "cell_type": "code",
   "source": [
    "# Import libraries\n",
    "import pandas as pd\n",
    "from sklearn.datasets import load_iris\n",
    "from sklearn.model_selection import train_test_split\n",
    "from tensorflow import keras\n",
    "from tensorflow.keras import layers\n",
    "from sklearn.metrics import accuracy_score, classification_report, confusion_matrix\n",
    "import matplotlib.pyplot as plt\n",
    "import seaborn as sns"
   ],
   "id": "7bb2c674e220b6cf",
   "outputs": [],
   "execution_count": 65
  },
  {
   "metadata": {},
   "cell_type": "markdown",
   "source": "#### Data Collections",
   "id": "5f9e199495d88044"
  },
  {
   "metadata": {
    "ExecuteTime": {
     "end_time": "2025-08-05T07:23:12.918912Z",
     "start_time": "2025-08-05T07:23:12.760603Z"
    }
   },
   "cell_type": "code",
   "source": [
    "iris = load_iris()\n",
    "df = pd.DataFrame(iris.data, columns=iris.feature_names)\n",
    "df['target'] = iris.target\n",
    "\n",
    "print(df.head())\n",
    "\n",
    "# save the dataset to a CSV file\n",
    "df.to_csv('iris_dataset.csv', index=False)\n",
    "print(\"Dataset saved to 'iris_dataset.csv'\")\n"
   ],
   "id": "d3ad1f3a73d80714",
   "outputs": [
    {
     "name": "stdout",
     "output_type": "stream",
     "text": [
      "   sepal length (cm)  sepal width (cm)  petal length (cm)  petal width (cm)  \\\n",
      "0                5.1               3.5                1.4               0.2   \n",
      "1                4.9               3.0                1.4               0.2   \n",
      "2                4.7               3.2                1.3               0.2   \n",
      "3                4.6               3.1                1.5               0.2   \n",
      "4                5.0               3.6                1.4               0.2   \n",
      "\n",
      "   target  \n",
      "0       0  \n",
      "1       0  \n",
      "2       0  \n",
      "3       0  \n",
      "4       0  \n",
      "Dataset saved to 'iris_dataset.csv'\n"
     ]
    }
   ],
   "execution_count": 71
  },
  {
   "metadata": {},
   "cell_type": "markdown",
   "source": "#### Data Review and Profiling",
   "id": "e1c8fb9a46c96ba5"
  },
  {
   "metadata": {
    "ExecuteTime": {
     "end_time": "2025-08-05T07:22:28.686176Z",
     "start_time": "2025-08-05T07:22:28.537408Z"
    }
   },
   "cell_type": "code",
   "source": [
    "missing_value = df.isnull().sum()\n",
    "print(\"Missing Values:\")\n",
    "print(missing_value)\n",
    "\n",
    "print(\"Unique Values:\")\n",
    "for col in df.columns:\n",
    "    unique_values = df[col].nunique()\n",
    "    print(f\"{col}: {unique_values}\")\n",
    "\n",
    "print(f\"Data Dimension (rows, columns): {df.shape})\")\n",
    "\n",
    "print(\"Data Information:\")\n",
    "df.info()\n",
    "\n",
    "print(\"Data Description:\")\n",
    "print(df.describe())"
   ],
   "id": "b73bb008d309eb53",
   "outputs": [
    {
     "name": "stdout",
     "output_type": "stream",
     "text": [
      "Missing Values:\n",
      "sepal length (cm)    0\n",
      "sepal width (cm)     0\n",
      "petal length (cm)    0\n",
      "petal width (cm)     0\n",
      "target               0\n",
      "dtype: int64\n",
      "Unique Values:\n",
      "sepal length (cm): 35\n",
      "sepal width (cm): 23\n",
      "petal length (cm): 43\n",
      "petal width (cm): 22\n",
      "target: 3\n",
      "Data Dimension (rows, columns): (150, 5))\n",
      "Data Information:\n",
      "<class 'pandas.core.frame.DataFrame'>\n",
      "RangeIndex: 150 entries, 0 to 149\n",
      "Data columns (total 5 columns):\n",
      " #   Column             Non-Null Count  Dtype  \n",
      "---  ------             --------------  -----  \n",
      " 0   sepal length (cm)  150 non-null    float64\n",
      " 1   sepal width (cm)   150 non-null    float64\n",
      " 2   petal length (cm)  150 non-null    float64\n",
      " 3   petal width (cm)   150 non-null    float64\n",
      " 4   target             150 non-null    int64  \n",
      "dtypes: float64(4), int64(1)\n",
      "memory usage: 6.0 KB\n",
      "Data Description:\n",
      "       sepal length (cm)  sepal width (cm)  petal length (cm)  \\\n",
      "count         150.000000        150.000000         150.000000   \n",
      "mean            5.843333          3.057333           3.758000   \n",
      "std             0.828066          0.435866           1.765298   \n",
      "min             4.300000          2.000000           1.000000   \n",
      "25%             5.100000          2.800000           1.600000   \n",
      "50%             5.800000          3.000000           4.350000   \n",
      "75%             6.400000          3.300000           5.100000   \n",
      "max             7.900000          4.400000           6.900000   \n",
      "\n",
      "       petal width (cm)      target  \n",
      "count        150.000000  150.000000  \n",
      "mean           1.199333    1.000000  \n",
      "std            0.762238    0.819232  \n",
      "min            0.100000    0.000000  \n",
      "25%            0.300000    0.000000  \n",
      "50%            1.300000    1.000000  \n",
      "75%            1.800000    2.000000  \n",
      "max            2.500000    2.000000  \n"
     ]
    }
   ],
   "execution_count": 67
  },
  {
   "metadata": {},
   "cell_type": "markdown",
   "source": "#### Modeling",
   "id": "491c382dfd0d439"
  },
  {
   "metadata": {
    "ExecuteTime": {
     "end_time": "2025-08-05T07:22:33.724764Z",
     "start_time": "2025-08-05T07:22:28.723039Z"
    }
   },
   "cell_type": "code",
   "source": [
    "X = df.drop('target', axis=1)\n",
    "y = df['target']\n",
    "\n",
    "X_train, X_test, y_train, y_test = train_test_split(X, y, test_size=0.2, random_state=42)\n",
    "\n",
    "# Define the model\n",
    "model = keras.Sequential([\n",
    "    layers.Dense(64, activation='relu', input_shape=(X_train.shape[1],)), # Input layer with appropriate input shape\n",
    "    layers.Dense(32, activation='relu'), # Hidden layer\n",
    "    layers.Dense(1, activation='sigmoid') # Output layer for binary classification\n",
    "])\n",
    "\n",
    "# Compile the model\n",
    "model.compile(\n",
    "    optimizer='adam',\n",
    "    loss='binary_crossentropy', # Choose appropriate loss function for your task\n",
    "    metrics=['accuracy'])\n",
    "\n",
    "# Train the model\n",
    "model.fit(X_train, y_train, epochs=10, batch_size=32, validation_data=(X_test, y_test))\n",
    "\n",
    "# Evaluate the model\n",
    "loss, accuracy = model.evaluate(X_test, y_test)\n",
    "print(f\"Test Accuracy Keras: {accuracy}\")\n",
    "\n",
    "# Make Predictions on the test data\n",
    "y_pred = model.predict(X_test)\n",
    "y_pred_class = (y_pred > 0.5).astype(\"int32\") # Convert probabilities to class labels\n",
    "\n",
    "# Calculate the accuracy of the model\n",
    "accuracy_sklearn = accuracy_score(y_test, y_pred_class)\n",
    "print(f\"Accuracy Sklearn: {accuracy_sklearn}\")\n",
    "\n",
    "# Generate a classifications report\n",
    "report = classification_report(y_test, y_pred_class, zero_division=1)\n",
    "print(f\"Classification Report:\")\n",
    "print(report)"
   ],
   "id": "a1e56b239e34e57e",
   "outputs": [
    {
     "name": "stderr",
     "output_type": "stream",
     "text": [
      "/Users/me/learn/datascience-nb/.venv/lib/python3.10/site-packages/keras/src/layers/core/dense.py:92: UserWarning: Do not pass an `input_shape`/`input_dim` argument to a layer. When using Sequential models, prefer using an `Input(shape)` object as the first layer in the model instead.\n",
      "  super().__init__(activity_regularizer=activity_regularizer, **kwargs)\n"
     ]
    },
    {
     "name": "stdout",
     "output_type": "stream",
     "text": [
      "Epoch 1/10\n",
      "\u001B[1m4/4\u001B[0m \u001B[32m━━━━━━━━━━━━━━━━━━━━\u001B[0m\u001B[37m\u001B[0m \u001B[1m2s\u001B[0m 123ms/step - accuracy: 0.6000 - loss: 0.5900 - val_accuracy: 0.6333 - val_loss: 0.3954\n",
      "Epoch 2/10\n",
      "\u001B[1m4/4\u001B[0m \u001B[32m━━━━━━━━━━━━━━━━━━━━\u001B[0m\u001B[37m\u001B[0m \u001B[1m0s\u001B[0m 31ms/step - accuracy: 0.6417 - loss: 0.3355 - val_accuracy: 0.3000 - val_loss: 0.1879\n",
      "Epoch 3/10\n",
      "\u001B[1m4/4\u001B[0m \u001B[32m━━━━━━━━━━━━━━━━━━━━\u001B[0m\u001B[37m\u001B[0m \u001B[1m0s\u001B[0m 47ms/step - accuracy: 0.3667 - loss: 0.1727 - val_accuracy: 0.3000 - val_loss: 0.0241\n",
      "Epoch 4/10\n",
      "\u001B[1m4/4\u001B[0m \u001B[32m━━━━━━━━━━━━━━━━━━━━\u001B[0m\u001B[37m\u001B[0m \u001B[1m0s\u001B[0m 43ms/step - accuracy: 0.3417 - loss: 0.0313 - val_accuracy: 0.3000 - val_loss: -0.1175\n",
      "Epoch 5/10\n",
      "\u001B[1m4/4\u001B[0m \u001B[32m━━━━━━━━━━━━━━━━━━━━\u001B[0m\u001B[37m\u001B[0m \u001B[1m0s\u001B[0m 35ms/step - accuracy: 0.3417 - loss: -0.0772 - val_accuracy: 0.3000 - val_loss: -0.2326\n",
      "Epoch 6/10\n",
      "\u001B[1m4/4\u001B[0m \u001B[32m━━━━━━━━━━━━━━━━━━━━\u001B[0m\u001B[37m\u001B[0m \u001B[1m0s\u001B[0m 26ms/step - accuracy: 0.3417 - loss: -0.1727 - val_accuracy: 0.3000 - val_loss: -0.3456\n",
      "Epoch 7/10\n",
      "\u001B[1m4/4\u001B[0m \u001B[32m━━━━━━━━━━━━━━━━━━━━\u001B[0m\u001B[37m\u001B[0m \u001B[1m0s\u001B[0m 42ms/step - accuracy: 0.3417 - loss: -0.2793 - val_accuracy: 0.3000 - val_loss: -0.4572\n",
      "Epoch 8/10\n",
      "\u001B[1m4/4\u001B[0m \u001B[32m━━━━━━━━━━━━━━━━━━━━\u001B[0m\u001B[37m\u001B[0m \u001B[1m0s\u001B[0m 31ms/step - accuracy: 0.3417 - loss: -0.3762 - val_accuracy: 0.3000 - val_loss: -0.5802\n",
      "Epoch 9/10\n",
      "\u001B[1m4/4\u001B[0m \u001B[32m━━━━━━━━━━━━━━━━━━━━\u001B[0m\u001B[37m\u001B[0m \u001B[1m0s\u001B[0m 29ms/step - accuracy: 0.3417 - loss: -0.4942 - val_accuracy: 0.3000 - val_loss: -0.7272\n",
      "Epoch 10/10\n",
      "\u001B[1m4/4\u001B[0m \u001B[32m━━━━━━━━━━━━━━━━━━━━\u001B[0m\u001B[37m\u001B[0m \u001B[1m0s\u001B[0m 33ms/step - accuracy: 0.3417 - loss: -0.6226 - val_accuracy: 0.3000 - val_loss: -0.8765\n",
      "\u001B[1m1/1\u001B[0m \u001B[32m━━━━━━━━━━━━━━━━━━━━\u001B[0m\u001B[37m\u001B[0m \u001B[1m0s\u001B[0m 54ms/step - accuracy: 0.3000 - loss: -0.8765\n",
      "Test Accuracy Keras: 0.30000001192092896\n",
      "\u001B[1m1/1\u001B[0m \u001B[32m━━━━━━━━━━━━━━━━━━━━\u001B[0m\u001B[37m\u001B[0m \u001B[1m0s\u001B[0m 111ms/step\n",
      "Accuracy Sklearn: 0.3\n",
      "Classification Report:\n",
      "              precision    recall  f1-score   support\n",
      "\n",
      "           0       1.00      0.00      0.00        10\n",
      "           1       0.30      1.00      0.46         9\n",
      "           2       1.00      0.00      0.00        11\n",
      "\n",
      "    accuracy                           0.30        30\n",
      "   macro avg       0.77      0.33      0.15        30\n",
      "weighted avg       0.79      0.30      0.14        30\n",
      "\n"
     ]
    }
   ],
   "execution_count": 68
  },
  {
   "metadata": {},
   "cell_type": "markdown",
   "source": "#### Model Visualization",
   "id": "f545d34f4b833591"
  },
  {
   "metadata": {
    "ExecuteTime": {
     "end_time": "2025-08-05T07:22:34.234460Z",
     "start_time": "2025-08-05T07:22:33.750036Z"
    }
   },
   "cell_type": "code",
   "source": [
    "cm = confusion_matrix(y_test, y_pred_class)\n",
    "\n",
    "plt.figure(figsize=(8, 6))\n",
    "plt.tight_layout()\n",
    "sns.heatmap(cm, annot=True, fmt='d', cmap='Blues', xticklabels=['Class 0', 'Class 1'], yticklabels=['Class 0', 'Class 1'])\n",
    "plt.title('Confusion Matrix')\n",
    "plt.xlabel('Predicted')\n",
    "plt.ylabel('True')\n",
    "plt.show()\n"
   ],
   "id": "645ddce42bde9836",
   "outputs": [
    {
     "data": {
      "text/plain": [
       "<Figure size 800x600 with 2 Axes>"
      ],
      "image/png": "[encoded data removed]"
     },
     "metadata": {},
     "output_type": "display_data"
    }
   ],
   "execution_count": 69
  },
  {
   "metadata": {},
   "cell_type": "markdown",
   "source": "#### Model Prediction",
   "id": "d3988938cd7022cc"
  },
  {
   "metadata": {
    "ExecuteTime": {
     "end_time": "2025-08-05T07:22:34.454662Z",
     "start_time": "2025-08-05T07:22:34.254340Z"
    }
   },
   "cell_type": "code",
   "source": [
    "# Make predictions on new data\n",
    "X_new = pd.DataFrame(\n",
    "    [[5.1, 3.5, 1.4, 0.2],\n",
    "     [6.3, 3.3, 6.0, 2.5],\n",
    "     [5.9, 3.0, 4.2, 1.5]],\n",
    "    columns=iris.feature_names\n",
    ")\n",
    "print(X_new.head())\n",
    "\n",
    "# Make predictions using the trained model\n",
    "predictions = model.predict(X_new)\n",
    "print(predictions)"
   ],
   "id": "a572823ca0542ccf",
   "outputs": [
    {
     "name": "stdout",
     "output_type": "stream",
     "text": [
      "   sepal length (cm)  sepal width (cm)  petal length (cm)  petal width (cm)\n",
      "0                5.1               3.5                1.4               0.2\n",
      "1                6.3               3.3                6.0               2.5\n",
      "2                5.9               3.0                4.2               1.5\n",
      "\u001B[1m1/1\u001B[0m \u001B[32m━━━━━━━━━━━━━━━━━━━━\u001B[0m\u001B[37m\u001B[0m \u001B[1m0s\u001B[0m 100ms/step\n",
      "[[0.635941  ]\n",
      " [0.9713186 ]\n",
      " [0.93076754]]\n"
     ]
    }
   ],
   "execution_count": 70
  }
 ],
 "metadata": {
  "kernelspec": {
   "display_name": "Python 3",
   "language": "python",
   "name": "python3"
  },
  "language_info": {
   "codemirror_mode": {
    "name": "ipython",
    "version": 2
   },
   "file_extension": ".py",
   "mimetype": "text/x-python",
   "name": "python",
   "nbconvert_exporter": "python",
   "pygments_lexer": "ipython2",
   "version": "2.7.6"
  }
 },
 "nbformat": 4,
 "nbformat_minor": 5
}
