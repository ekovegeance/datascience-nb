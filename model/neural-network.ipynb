{
 "cells": [
  {
   "metadata": {},
   "cell_type": "code",
   "source": [
    "# Import libraries\n",
    "import pandas as pd\n",
    "from sklearn.datasets import load_iris\n",
    "from sklearn.model_selection import train_test_split\n",
    "from tensorflow import keras\n",
    "from tensorflow.keras import layers\n",
    "from sklearn.metrics import accuracy_score, classification_report, confusion_matrix\n",
    "import matplotlib.pyplot as plt\n",
    "import seaborn as sns"
   ],
   "id": "7bb2c674e220b6cf",
   "outputs": [],
   "execution_count": null
  },
  {
   "metadata": {},
   "cell_type": "markdown",
   "source": "#### Data Collections",
   "id": "5f9e199495d88044"
  },
  {
   "metadata": {},
   "cell_type": "code",
   "source": [
    "iris = load_iris()\n",
    "df = pd.DataFrame(iris.data, columns=iris.feature_names)\n",
    "df['target'] = iris.target\n",
    "\n",
    "print(df.head())\n"
   ],
   "id": "d3ad1f3a73d80714",
   "outputs": [],
   "execution_count": null
  },
  {
   "metadata": {},
   "cell_type": "markdown",
   "source": "#### Data Review and Profiling",
   "id": "e1c8fb9a46c96ba5"
  },
  {
   "metadata": {},
   "cell_type": "code",
   "source": [
    "missing_value = df.isnull().sum()\n",
    "print(\"Missing Values:\")\n",
    "print(missing_value)\n",
    "\n",
    "print(\"Unique Values:\")\n",
    "for col in df.columns:\n",
    "    unique_values = df[col].nunique()\n",
    "    print(f\"{col}: {unique_values}\")\n",
    "\n",
    "print(f\"Data Dimension (rows, columns): {df.shape})\")\n",
    "\n",
    "print(\"Data Information:\")\n",
    "df.info()\n",
    "\n",
    "print(\"Data Description:\")\n",
    "print(df.describe())"
   ],
   "id": "b73bb008d309eb53",
   "outputs": [],
   "execution_count": null
  },
  {
   "metadata": {},
   "cell_type": "markdown",
   "source": "#### Modeling",
   "id": "491c382dfd0d439"
  },
  {
   "metadata": {},
   "cell_type": "code",
   "source": [
    "X = df.drop('target', axis=1)\n",
    "y = df['target']\n",
    "\n",
    "X_train, X_test, y_train, y_test = train_test_split(X, y, test_size=0.2, random_state=42)\n",
    "\n",
    "# Define the model\n",
    "model = keras.Sequential([\n",
    "    layers.Dense(64, activation='relu', input_shape=(X_train.shape[1],)), # Input layer with appropriate input shape\n",
    "    layers.Dense(32, activation='relu'), # Hidden layer\n",
    "    layers.Dense(1, activation='sigmoid') # Output layer for binary classification\n",
    "])\n",
    "\n",
    "# Compile the model\n",
    "model.compile(\n",
    "    optimizer='adam',\n",
    "    loss='binary_crossentropy', # Choose appropriate loss function for your task\n",
    "    metrics=['accuracy'])\n",
    "\n",
    "# Train the model\n",
    "model.fit(X_train, y_train, epochs=10, batch_size=32, validation_data=(X_test, y_test))\n",
    "\n",
    "# Evaluate the model\n",
    "loss, accuracy = model.evaluate(X_test, y_test)\n",
    "print(f\"Test Accuracy Keras: {accuracy}\")\n",
    "\n",
    "# Make Predictions on the test data\n",
    "y_pred = model.predict(X_test)\n",
    "y_pred_class = (y_pred > 0.5).astype(\"int32\") # Convert probabilities to class labels\n",
    "\n",
    "# Calculate the accuracy of the model\n",
    "accuracy_sklearn = accuracy_score(y_test, y_pred_class)\n",
    "print(f\"Accuracy Sklearn: {accuracy_sklearn}\")\n",
    "\n",
    "# Generate a classifications report\n",
    "report = classification_report(y_test, y_pred_class, zero_division=1)\n",
    "print(f\"Classification Report:\")\n",
    "print(report)"
   ],
   "id": "a1e56b239e34e57e",
   "outputs": [],
   "execution_count": null
  },
  {
   "metadata": {},
   "cell_type": "markdown",
   "source": "#### Model Visualization",
   "id": "f545d34f4b833591"
  },
  {
   "metadata": {},
   "cell_type": "code",
   "source": [
    "cm = confusion_matrix(y_test, y_pred_class)\n",
    "\n",
    "plt.figure(figsize=(8, 6))\n",
    "plt.tight_layout()\n",
    "sns.heatmap(cm, annot=True, fmt='d', cmap='Blues', xticklabels=['Class 0', 'Class 1'], yticklabels=['Class 0', 'Class 1'])\n",
    "plt.title('Confusion Matrix')\n",
    "plt.xlabel('Predicted')\n",
    "plt.ylabel('True')\n",
    "plt.show()\n"
   ],
   "id": "645ddce42bde9836",
   "outputs": [],
   "execution_count": null
  },
  {
   "metadata": {},
   "cell_type": "markdown",
   "source": "#### Model Prediction",
   "id": "d3988938cd7022cc"
  },
  {
   "metadata": {},
   "cell_type": "code",
   "source": [
    "# Make predictions on new data\n",
    "X_new = pd.DataFrame(\n",
    "    [[5.1, 3.5, 1.4, 0.2],\n",
    "     [6.3, 3.3, 6.0, 2.5],\n",
    "     [5.9, 3.0, 4.2, 1.5]],\n",
    "    columns=iris.feature_names\n",
    ")\n",
    "print(X_new.head())\n",
    "\n",
    "# Make predictions using the trained model\n",
    "predictions = model.predict(X_new)\n",
    "print(predictions)"
   ],
   "id": "a572823ca0542ccf",
   "outputs": [],
   "execution_count": null
  }
 ],
 "metadata": {
  "kernelspec": {
   "display_name": "Python 3",
   "language": "python",
   "name": "python3"
  },
  "language_info": {
   "codemirror_mode": {
    "name": "ipython",
    "version": 2
   },
   "file_extension": ".py",
   "mimetype": "text/x-python",
   "name": "python",
   "nbconvert_exporter": "python",
   "pygments_lexer": "ipython2",
   "version": "2.7.6"
  }
 },
 "nbformat": 4,
 "nbformat_minor": 5
}
