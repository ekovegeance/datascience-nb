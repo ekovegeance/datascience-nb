{
 "cells": [
  {
   "metadata": {},
   "cell_type": "markdown",
   "source": [
    "# Playground\n",
    "This is a playground for testing code snippets and examples.\n",
    "resource:\n",
    "- [w3schools Python](https://www.w3schools.com/python/default.asp)\n",
    "- [w3schools Pandas](https://www.w3schools.com/python/pandas/default.asp)"
   ],
   "id": "1a40b25a299161ef"
  },
  {
   "metadata": {},
   "cell_type": "markdown",
   "source": "## Pandas Basics",
   "id": "808be96ada8c4b5d"
  },
  {
   "cell_type": "code",
   "id": "initial_id",
   "metadata": {
    "collapsed": true,
    "ExecuteTime": {
     "end_time": "2025-07-08T07:42:21.467769Z",
     "start_time": "2025-07-08T07:42:21.406606Z"
    }
   },
   "source": [
    "import pandas as pd\n",
    "\n",
    "\n",
    "df = pd.read_csv('data/pandas_w3.csv')\n",
    "print(df)"
   ],
   "outputs": [
    {
     "name": "stdout",
     "output_type": "stream",
     "text": [
      "    Duration          Date  Pulse  Maxpulse  Calories\n",
      "0         60  '2020/12/01'    110       130     409.1\n",
      "1         60  '2020/12/02'    117       145     479.0\n",
      "2         60  '2020/12/03'    103       135     340.0\n",
      "3         45  '2020/12/04'    109       175     282.4\n",
      "4         45  '2020/12/05'    117       148     406.0\n",
      "5         60  '2020/12/06'    102       127     300.0\n",
      "6         60  '2020/12/07'    110       136     374.0\n",
      "7        450  '2020/12/08'    104       134     253.3\n",
      "8         30  '2020/12/09'    109       133     195.1\n",
      "9         60  '2020/12/10'     98       124     269.0\n",
      "10        60  '2020/12/11'    103       147     329.3\n",
      "11        60  '2020/12/12'    100       120     250.7\n",
      "12        60  '2020/12/12'    100       120     250.7\n",
      "13        60  '2020/12/13'    106       128     345.3\n",
      "14        60  '2020/12/14'    104       132     379.3\n",
      "15        60  '2020/12/15'     98       123     275.0\n",
      "16        60  '2020/12/16'     98       120     215.2\n",
      "17        60  '2020/12/17'    100       120     300.0\n",
      "18        45  '2020/12/18'     90       112       NaN\n",
      "19        60  '2020/12/19'    103       123     323.0\n",
      "20        45  '2020/12/20'     97       125     243.0\n",
      "21        60  '2020/12/21'    108       131     364.2\n",
      "22        45           NaN    100       119     282.0\n",
      "23        60  '2020/12/23'    130       101     300.0\n",
      "24        45  '2020/12/24'    105       132     246.0\n",
      "25        60  '2020/12/25'    102       126     334.5\n",
      "26        60      20201226    100       120     250.0\n",
      "27        60  '2020/12/27'     92       118     241.0\n",
      "28        60  '2020/12/28'    103       132       NaN\n",
      "29        60  '2020/12/29'    100       132     280.0\n",
      "30        60  '2020/12/30'    102       129     380.3\n",
      "31        60  '2020/12/31'     92       115     243.0\n"
     ]
    }
   ],
   "execution_count": 1
  },
  {
   "metadata": {},
   "cell_type": "markdown",
   "source": "**Read JSON data from a URL**",
   "id": "5ad733532c45da0b"
  },
  {
   "metadata": {
    "ExecuteTime": {
     "end_time": "2025-07-08T07:42:23.349747Z",
     "start_time": "2025-07-08T07:42:21.701907Z"
    }
   },
   "cell_type": "code",
   "source": [
    "import requests\n",
    "\n",
    "response = requests.get('https://dummyjson.com/users')\n",
    "if response.status_code == 200:\n",
    "    data = response.json()\n",
    "    df_users = pd.DataFrame(data['users'])\n",
    "    print(df_users.head(10))\n",
    "\n",
    "else:\n",
    "    print(f\"Error: {response.status_code}, {response.reason}\")"
   ],
   "id": "88ecbcb24745a007",
   "outputs": [
    {
     "name": "stdout",
     "output_type": "stream",
     "text": [
      "   id  firstName  lastName maidenName  age  gender  \\\n",
      "0   1      Emily   Johnson      Smith   28  female   \n",
      "1   2    Michael  Williams              35    male   \n",
      "2   3     Sophia     Brown              42  female   \n",
      "3   4      James     Davis              45    male   \n",
      "4   5       Emma    Miller    Johnson   30  female   \n",
      "5   6     Olivia    Wilson              22  female   \n",
      "6   7  Alexander     Jones              38    male   \n",
      "7   8        Ava    Taylor              27  female   \n",
      "8   9      Ethan  Martinez              33    male   \n",
      "9  10   Isabella  Anderson      Davis   31  female   \n",
      "\n",
      "                               email             phone    username  \\\n",
      "0      emily.johnson@x.dummyjson.com  +81 965-431-3024      emilys   \n",
      "1   michael.williams@x.dummyjson.com  +49 258-627-6644    michaelw   \n",
      "2       sophia.brown@x.dummyjson.com  +81 210-652-2785     sophiab   \n",
      "3        james.davis@x.dummyjson.com  +49 614-958-9364      jamesd   \n",
      "4        emma.miller@x.dummyjson.com  +91 759-776-1614       emmaj   \n",
      "5      olivia.wilson@x.dummyjson.com  +91 607-295-6448     oliviaw   \n",
      "6    alexander.jones@x.dummyjson.com  +61 260-824-4986  alexanderj   \n",
      "7         ava.taylor@x.dummyjson.com   +1 458-853-7877        avat   \n",
      "8     ethan.martinez@x.dummyjson.com  +92 933-608-5081      ethanm   \n",
      "9  isabella.anderson@x.dummyjson.com  +49 770-658-4885   isabellad   \n",
      "\n",
      "         password  ...                                            address  \\\n",
      "0      emilyspass  ...  {'address': '626 Main Street', 'city': 'Phoeni...   \n",
      "1    michaelwpass  ...  {'address': '385 Fifth Street', 'city': 'Houst...   \n",
      "2     sophiabpass  ...  {'address': '1642 Ninth Street', 'city': 'Wash...   \n",
      "3      jamesdpass  ...  {'address': '238 Jefferson Street', 'city': 'S...   \n",
      "4       emmajpass  ...  {'address': '607 Fourth Street', 'city': 'Jack...   \n",
      "5     oliviawpass  ...  {'address': '547 First Street', 'city': 'Fort ...   \n",
      "6  alexanderjpass  ...  {'address': '664 Maple Street', 'city': 'India...   \n",
      "7        avatpass  ...  {'address': '1197 First Street', 'city': 'Fort...   \n",
      "8      ethanmpass  ...  {'address': '466 Pine Street', 'city': 'San An...   \n",
      "9   isabelladpass  ...  {'address': '1964 Oak Street', 'city': 'New Yo...   \n",
      "\n",
      "          macAddress                                    university  \\\n",
      "0  47:fa:41:18:ec:eb              University of Wisconsin--Madison   \n",
      "1  79:15:78:99:60:aa                         Ohio State University   \n",
      "2  12:a3:d3:6f:5c:5b                         Pepperdine University   \n",
      "3  10:7d:df:1f:97:58             University of Southern California   \n",
      "4  32:b9:7e:8d:f5:e8                       Northeastern University   \n",
      "5  9c:7f:ea:34:18:19     University of North Carolina--Chapel Hill   \n",
      "6  d2:64:58:2d:1c:46      University of Illinois--Urbana-Champaign   \n",
      "7  8d:2e:c2:d6:e7:a8              University of Wisconsin--Madison   \n",
      "8   59:e:9e:e3:29:da                           Syracuse University   \n",
      "9  b1:b0:d0:a2:82:80  California Institute of Technology (Caltech)   \n",
      "\n",
      "                                                bank  \\\n",
      "0  {'cardExpire': '03/26', 'cardNumber': '9289760...   \n",
      "1  {'cardExpire': '02/27', 'cardNumber': '6737807...   \n",
      "2  {'cardExpire': '04/25', 'cardNumber': '7795895...   \n",
      "3  {'cardExpire': '05/29', 'cardNumber': '5005519...   \n",
      "4  {'cardExpire': '03/26', 'cardNumber': '5772950...   \n",
      "5  {'cardExpire': '05/28', 'cardNumber': '6771923...   \n",
      "6  {'cardExpire': '05/25', 'cardNumber': '7344951...   \n",
      "7  {'cardExpire': '01/29', 'cardNumber': '6412128...   \n",
      "8  {'cardExpire': '02/25', 'cardNumber': '7183482...   \n",
      "9  {'cardExpire': '05/27', 'cardNumber': '6118714...   \n",
      "\n",
      "                                             company      ein          ssn  \\\n",
      "0  {'department': 'Engineering', 'name': 'Dooley,...  977-175  900-590-289   \n",
      "1  {'department': 'Support', 'name': 'Spinka - Di...  912-602  108-953-962   \n",
      "2  {'department': 'Research and Development', 'na...  963-113  638-461-822   \n",
      "3  {'department': 'Support', 'name': 'Pagac and S...  904-810  116-951-314   \n",
      "4  {'department': 'Human Resources', 'name': 'Gra...  403-505  526-210-885   \n",
      "5  {'department': 'Product Management', 'name': '...  921-709  836-772-168   \n",
      "6  {'department': 'Engineering', 'name': 'Dickens...  638-127  722-993-925   \n",
      "7  {'department': 'Marketing', 'name': 'Nikolaus ...  297-762  257-419-109   \n",
      "8  {'department': 'Support', 'name': 'Gorczany - ...  790-434  569-650-348   \n",
      "9  {'department': 'Marketing', 'name': 'Pollich -...  127-297  902-438-728   \n",
      "\n",
      "                                           userAgent  \\\n",
      "0  Mozilla/5.0 (Macintosh; Intel Mac OS X 10_15_7...   \n",
      "1  Mozilla/5.0 (Windows NT 10.0; Win64; x64) Appl...   \n",
      "2  Mozilla/5.0 (Windows NT 10.0; Win64; x64) Appl...   \n",
      "3  Mozilla/5.0 (Macintosh; Intel Mac OS X 10_15_7...   \n",
      "4  Mozilla/5.0 (Windows NT 10.0; Win64; x64; rv:9...   \n",
      "5  Mozilla/5.0 (Macintosh; Intel Mac OS X 10_15_7...   \n",
      "6  Mozilla/5.0 (Macintosh; Intel Mac OS X 10_15_7...   \n",
      "7  Mozilla/5.0 (Windows NT 10.0; Win64; x64) Appl...   \n",
      "8  Mozilla/5.0 (Windows NT 10.0; Win64; x64) Appl...   \n",
      "9  Mozilla/5.0 (Macintosh; Intel Mac OS X 10_15_7...   \n",
      "\n",
      "                                              crypto       role  \n",
      "0  {'coin': 'Bitcoin', 'wallet': '0xb9fc2fe63b2a6...      admin  \n",
      "1  {'coin': 'Bitcoin', 'wallet': '0xb9fc2fe63b2a6...      admin  \n",
      "2  {'coin': 'Bitcoin', 'wallet': '0xb9fc2fe63b2a6...      admin  \n",
      "3  {'coin': 'Bitcoin', 'wallet': '0xb9fc2fe63b2a6...      admin  \n",
      "4  {'coin': 'Bitcoin', 'wallet': '0xb9fc2fe63b2a6...      admin  \n",
      "5  {'coin': 'Bitcoin', 'wallet': '0xb9fc2fe63b2a6...  moderator  \n",
      "6  {'coin': 'Bitcoin', 'wallet': '0xb9fc2fe63b2a6...  moderator  \n",
      "7  {'coin': 'Bitcoin', 'wallet': '0xb9fc2fe63b2a6...  moderator  \n",
      "8  {'coin': 'Bitcoin', 'wallet': '0xb9fc2fe63b2a6...  moderator  \n",
      "9  {'coin': 'Bitcoin', 'wallet': '0xb9fc2fe63b2a6...  moderator  \n",
      "\n",
      "[10 rows x 28 columns]\n"
     ]
    }
   ],
   "execution_count": 2
  },
  {
   "metadata": {},
   "cell_type": "markdown",
   "source": "Data Frame Info",
   "id": "4b166eba713cd1ea"
  },
  {
   "metadata": {
    "ExecuteTime": {
     "end_time": "2025-07-08T07:42:24.207792Z",
     "start_time": "2025-07-08T07:42:24.134186Z"
    }
   },
   "cell_type": "code",
   "source": [
    "df = pd.read_csv('data/pandas_w3.csv')\n",
    "print(df.info())"
   ],
   "id": "376467825f13f99c",
   "outputs": [
    {
     "name": "stdout",
     "output_type": "stream",
     "text": [
      "<class 'pandas.core.frame.DataFrame'>\n",
      "RangeIndex: 32 entries, 0 to 31\n",
      "Data columns (total 5 columns):\n",
      " #   Column    Non-Null Count  Dtype  \n",
      "---  ------    --------------  -----  \n",
      " 0   Duration  32 non-null     int64  \n",
      " 1   Date      31 non-null     object \n",
      " 2   Pulse     32 non-null     int64  \n",
      " 3   Maxpulse  32 non-null     int64  \n",
      " 4   Calories  30 non-null     float64\n",
      "dtypes: float64(1), int64(3), object(1)\n",
      "memory usage: 1.4+ KB\n",
      "None\n"
     ]
    }
   ],
   "execution_count": 3
  },
  {
   "metadata": {},
   "cell_type": "markdown",
   "source": "## Cleaning Data",
   "id": "b2fd9fa500b434a8"
  },
  {
   "metadata": {},
   "cell_type": "markdown",
   "source": "### Empty Cells",
   "id": "aef7b369cceaff82"
  },
  {
   "metadata": {},
   "cell_type": "markdown",
   "source": "**Remove Rows**",
   "id": "666360797e6e19b5"
  },
  {
   "metadata": {
    "ExecuteTime": {
     "end_time": "2025-07-08T07:42:24.744498Z",
     "start_time": "2025-07-08T07:42:24.705126Z"
    }
   },
   "cell_type": "code",
   "source": [
    "df = pd.read_csv('data/pandas_w3.csv')\n",
    "\n",
    "df.dropna(inplace=True)  # Remove rows with any empty cells\n",
    "print(f\"{df.shape[0]} rows after dropping empty cells.\")\n",
    "print(df.info())\n",
    "print(df.to_string())"
   ],
   "id": "bd95fde1abff6e20",
   "outputs": [
    {
     "name": "stdout",
     "output_type": "stream",
     "text": [
      "29 rows after dropping empty cells.\n",
      "<class 'pandas.core.frame.DataFrame'>\n",
      "Index: 29 entries, 0 to 31\n",
      "Data columns (total 5 columns):\n",
      " #   Column    Non-Null Count  Dtype  \n",
      "---  ------    --------------  -----  \n",
      " 0   Duration  29 non-null     int64  \n",
      " 1   Date      29 non-null     object \n",
      " 2   Pulse     29 non-null     int64  \n",
      " 3   Maxpulse  29 non-null     int64  \n",
      " 4   Calories  29 non-null     float64\n",
      "dtypes: float64(1), int64(3), object(1)\n",
      "memory usage: 1.4+ KB\n",
      "None\n",
      "    Duration          Date  Pulse  Maxpulse  Calories\n",
      "0         60  '2020/12/01'    110       130     409.1\n",
      "1         60  '2020/12/02'    117       145     479.0\n",
      "2         60  '2020/12/03'    103       135     340.0\n",
      "3         45  '2020/12/04'    109       175     282.4\n",
      "4         45  '2020/12/05'    117       148     406.0\n",
      "5         60  '2020/12/06'    102       127     300.0\n",
      "6         60  '2020/12/07'    110       136     374.0\n",
      "7        450  '2020/12/08'    104       134     253.3\n",
      "8         30  '2020/12/09'    109       133     195.1\n",
      "9         60  '2020/12/10'     98       124     269.0\n",
      "10        60  '2020/12/11'    103       147     329.3\n",
      "11        60  '2020/12/12'    100       120     250.7\n",
      "12        60  '2020/12/12'    100       120     250.7\n",
      "13        60  '2020/12/13'    106       128     345.3\n",
      "14        60  '2020/12/14'    104       132     379.3\n",
      "15        60  '2020/12/15'     98       123     275.0\n",
      "16        60  '2020/12/16'     98       120     215.2\n",
      "17        60  '2020/12/17'    100       120     300.0\n",
      "19        60  '2020/12/19'    103       123     323.0\n",
      "20        45  '2020/12/20'     97       125     243.0\n",
      "21        60  '2020/12/21'    108       131     364.2\n",
      "23        60  '2020/12/23'    130       101     300.0\n",
      "24        45  '2020/12/24'    105       132     246.0\n",
      "25        60  '2020/12/25'    102       126     334.5\n",
      "26        60      20201226    100       120     250.0\n",
      "27        60  '2020/12/27'     92       118     241.0\n",
      "29        60  '2020/12/29'    100       132     280.0\n",
      "30        60  '2020/12/30'    102       129     380.3\n",
      "31        60  '2020/12/31'     92       115     243.0\n"
     ]
    }
   ],
   "execution_count": 4
  },
  {
   "metadata": {},
   "cell_type": "markdown",
   "source": "**Replace Empty Value**",
   "id": "214e1ad4141f507"
  },
  {
   "metadata": {
    "ExecuteTime": {
     "end_time": "2025-07-08T07:42:25.071491Z",
     "start_time": "2025-07-08T07:42:25.052174Z"
    }
   },
   "cell_type": "code",
   "source": [
    "df = pd.read_csv('data/pandas_w3.csv')\n",
    "# Replace Empty Values\n",
    "# df.fillna(130, inplace=True)\n",
    "\n",
    "#Replace Only For Specified Columns\n",
    "df.fillna({\"Calories\": 130}, inplace=True)\n",
    "\n",
    "print(df.to_string())"
   ],
   "id": "17857306ce835a7",
   "outputs": [
    {
     "name": "stdout",
     "output_type": "stream",
     "text": [
      "    Duration          Date  Pulse  Maxpulse  Calories\n",
      "0         60  '2020/12/01'    110       130     409.1\n",
      "1         60  '2020/12/02'    117       145     479.0\n",
      "2         60  '2020/12/03'    103       135     340.0\n",
      "3         45  '2020/12/04'    109       175     282.4\n",
      "4         45  '2020/12/05'    117       148     406.0\n",
      "5         60  '2020/12/06'    102       127     300.0\n",
      "6         60  '2020/12/07'    110       136     374.0\n",
      "7        450  '2020/12/08'    104       134     253.3\n",
      "8         30  '2020/12/09'    109       133     195.1\n",
      "9         60  '2020/12/10'     98       124     269.0\n",
      "10        60  '2020/12/11'    103       147     329.3\n",
      "11        60  '2020/12/12'    100       120     250.7\n",
      "12        60  '2020/12/12'    100       120     250.7\n",
      "13        60  '2020/12/13'    106       128     345.3\n",
      "14        60  '2020/12/14'    104       132     379.3\n",
      "15        60  '2020/12/15'     98       123     275.0\n",
      "16        60  '2020/12/16'     98       120     215.2\n",
      "17        60  '2020/12/17'    100       120     300.0\n",
      "18        45  '2020/12/18'     90       112     130.0\n",
      "19        60  '2020/12/19'    103       123     323.0\n",
      "20        45  '2020/12/20'     97       125     243.0\n",
      "21        60  '2020/12/21'    108       131     364.2\n",
      "22        45           NaN    100       119     282.0\n",
      "23        60  '2020/12/23'    130       101     300.0\n",
      "24        45  '2020/12/24'    105       132     246.0\n",
      "25        60  '2020/12/25'    102       126     334.5\n",
      "26        60      20201226    100       120     250.0\n",
      "27        60  '2020/12/27'     92       118     241.0\n",
      "28        60  '2020/12/28'    103       132     130.0\n",
      "29        60  '2020/12/29'    100       132     280.0\n",
      "30        60  '2020/12/30'    102       129     380.3\n",
      "31        60  '2020/12/31'     92       115     243.0\n"
     ]
    }
   ],
   "execution_count": 5
  },
  {
   "metadata": {},
   "cell_type": "markdown",
   "source": "**Replace Using Mean, Median, or Mode**",
   "id": "f39c3095c64e3444"
  },
  {
   "metadata": {
    "ExecuteTime": {
     "end_time": "2025-07-08T07:42:25.420226Z",
     "start_time": "2025-07-08T07:42:25.391065Z"
    }
   },
   "cell_type": "code",
   "source": [
    "df = pd.read_csv('data/pandas_w3.csv')\n",
    "# Replace using Mean\n",
    "x = df[\"Calories\"].median() # or df[\"Calories\"].mean() or df[\"Calories\"].mode()[0]\n",
    "df.fillna({\"Calories\": x}, inplace=True)\n",
    "print(df.to_string())"
   ],
   "id": "ac4a8cf7310d0a23",
   "outputs": [
    {
     "name": "stdout",
     "output_type": "stream",
     "text": [
      "    Duration          Date  Pulse  Maxpulse  Calories\n",
      "0         60  '2020/12/01'    110       130     409.1\n",
      "1         60  '2020/12/02'    117       145     479.0\n",
      "2         60  '2020/12/03'    103       135     340.0\n",
      "3         45  '2020/12/04'    109       175     282.4\n",
      "4         45  '2020/12/05'    117       148     406.0\n",
      "5         60  '2020/12/06'    102       127     300.0\n",
      "6         60  '2020/12/07'    110       136     374.0\n",
      "7        450  '2020/12/08'    104       134     253.3\n",
      "8         30  '2020/12/09'    109       133     195.1\n",
      "9         60  '2020/12/10'     98       124     269.0\n",
      "10        60  '2020/12/11'    103       147     329.3\n",
      "11        60  '2020/12/12'    100       120     250.7\n",
      "12        60  '2020/12/12'    100       120     250.7\n",
      "13        60  '2020/12/13'    106       128     345.3\n",
      "14        60  '2020/12/14'    104       132     379.3\n",
      "15        60  '2020/12/15'     98       123     275.0\n",
      "16        60  '2020/12/16'     98       120     215.2\n",
      "17        60  '2020/12/17'    100       120     300.0\n",
      "18        45  '2020/12/18'     90       112     291.2\n",
      "19        60  '2020/12/19'    103       123     323.0\n",
      "20        45  '2020/12/20'     97       125     243.0\n",
      "21        60  '2020/12/21'    108       131     364.2\n",
      "22        45           NaN    100       119     282.0\n",
      "23        60  '2020/12/23'    130       101     300.0\n",
      "24        45  '2020/12/24'    105       132     246.0\n",
      "25        60  '2020/12/25'    102       126     334.5\n",
      "26        60      20201226    100       120     250.0\n",
      "27        60  '2020/12/27'     92       118     241.0\n",
      "28        60  '2020/12/28'    103       132     291.2\n",
      "29        60  '2020/12/29'    100       132     280.0\n",
      "30        60  '2020/12/30'    102       129     380.3\n",
      "31        60  '2020/12/31'     92       115     243.0\n"
     ]
    }
   ],
   "execution_count": 6
  },
  {
   "metadata": {},
   "cell_type": "markdown",
   "source": "### Cleaning Wrong Format",
   "id": "af534f95e81dda33"
  },
  {
   "metadata": {},
   "cell_type": "markdown",
   "source": "**Convert Into a Correct Format**",
   "id": "ee5e62bb5d42b707"
  },
  {
   "metadata": {
    "ExecuteTime": {
     "end_time": "2025-07-08T07:42:25.822980Z",
     "start_time": "2025-07-08T07:42:25.719387Z"
    }
   },
   "cell_type": "code",
   "source": [
    "df = pd.read_csv('data/pandas_w3.csv')\n",
    "\n",
    "df['Date'] = pd.to_datetime(df['Date'], format='mixed') # Convert 'Date' column to datetime format\n",
    "df.dropna(subset=['Date'], inplace=True) # Remove rows with invalid dates\n",
    "\n",
    "print(df.info())\n",
    "print(df.to_string())"
   ],
   "id": "7caf19059cdb06d6",
   "outputs": [
    {
     "name": "stdout",
     "output_type": "stream",
     "text": [
      "<class 'pandas.core.frame.DataFrame'>\n",
      "Index: 31 entries, 0 to 31\n",
      "Data columns (total 5 columns):\n",
      " #   Column    Non-Null Count  Dtype         \n",
      "---  ------    --------------  -----         \n",
      " 0   Duration  31 non-null     int64         \n",
      " 1   Date      31 non-null     datetime64[ns]\n",
      " 2   Pulse     31 non-null     int64         \n",
      " 3   Maxpulse  31 non-null     int64         \n",
      " 4   Calories  29 non-null     float64       \n",
      "dtypes: datetime64[ns](1), float64(1), int64(3)\n",
      "memory usage: 1.5 KB\n",
      "None\n",
      "    Duration       Date  Pulse  Maxpulse  Calories\n",
      "0         60 2020-12-01    110       130     409.1\n",
      "1         60 2020-12-02    117       145     479.0\n",
      "2         60 2020-12-03    103       135     340.0\n",
      "3         45 2020-12-04    109       175     282.4\n",
      "4         45 2020-12-05    117       148     406.0\n",
      "5         60 2020-12-06    102       127     300.0\n",
      "6         60 2020-12-07    110       136     374.0\n",
      "7        450 2020-12-08    104       134     253.3\n",
      "8         30 2020-12-09    109       133     195.1\n",
      "9         60 2020-12-10     98       124     269.0\n",
      "10        60 2020-12-11    103       147     329.3\n",
      "11        60 2020-12-12    100       120     250.7\n",
      "12        60 2020-12-12    100       120     250.7\n",
      "13        60 2020-12-13    106       128     345.3\n",
      "14        60 2020-12-14    104       132     379.3\n",
      "15        60 2020-12-15     98       123     275.0\n",
      "16        60 2020-12-16     98       120     215.2\n",
      "17        60 2020-12-17    100       120     300.0\n",
      "18        45 2020-12-18     90       112       NaN\n",
      "19        60 2020-12-19    103       123     323.0\n",
      "20        45 2020-12-20     97       125     243.0\n",
      "21        60 2020-12-21    108       131     364.2\n",
      "23        60 2020-12-23    130       101     300.0\n",
      "24        45 2020-12-24    105       132     246.0\n",
      "25        60 2020-12-25    102       126     334.5\n",
      "26        60 2020-12-26    100       120     250.0\n",
      "27        60 2020-12-27     92       118     241.0\n",
      "28        60 2020-12-28    103       132       NaN\n",
      "29        60 2020-12-29    100       132     280.0\n",
      "30        60 2020-12-30    102       129     380.3\n",
      "31        60 2020-12-31     92       115     243.0\n"
     ]
    }
   ],
   "execution_count": 7
  },
  {
   "metadata": {},
   "cell_type": "markdown",
   "source": "### Cleaning Wrong Data",
   "id": "5719e73ae7cb65b9"
  },
  {
   "metadata": {
    "ExecuteTime": {
     "end_time": "2025-07-08T07:42:26.126473Z",
     "start_time": "2025-07-08T07:42:26.106234Z"
    }
   },
   "cell_type": "code",
   "source": [
    "df = pd.read_csv('data/pandas_w3.csv')\n",
    "\n",
    "df.loc[7, 'Duration'] = 45 # Correct the wrong value in 'Duration' column\n",
    "\n",
    "print(df)"
   ],
   "id": "bfd6239318491b18",
   "outputs": [
    {
     "name": "stdout",
     "output_type": "stream",
     "text": [
      "    Duration          Date  Pulse  Maxpulse  Calories\n",
      "0         60  '2020/12/01'    110       130     409.1\n",
      "1         60  '2020/12/02'    117       145     479.0\n",
      "2         60  '2020/12/03'    103       135     340.0\n",
      "3         45  '2020/12/04'    109       175     282.4\n",
      "4         45  '2020/12/05'    117       148     406.0\n",
      "5         60  '2020/12/06'    102       127     300.0\n",
      "6         60  '2020/12/07'    110       136     374.0\n",
      "7         45  '2020/12/08'    104       134     253.3\n",
      "8         30  '2020/12/09'    109       133     195.1\n",
      "9         60  '2020/12/10'     98       124     269.0\n",
      "10        60  '2020/12/11'    103       147     329.3\n",
      "11        60  '2020/12/12'    100       120     250.7\n",
      "12        60  '2020/12/12'    100       120     250.7\n",
      "13        60  '2020/12/13'    106       128     345.3\n",
      "14        60  '2020/12/14'    104       132     379.3\n",
      "15        60  '2020/12/15'     98       123     275.0\n",
      "16        60  '2020/12/16'     98       120     215.2\n",
      "17        60  '2020/12/17'    100       120     300.0\n",
      "18        45  '2020/12/18'     90       112       NaN\n",
      "19        60  '2020/12/19'    103       123     323.0\n",
      "20        45  '2020/12/20'     97       125     243.0\n",
      "21        60  '2020/12/21'    108       131     364.2\n",
      "22        45           NaN    100       119     282.0\n",
      "23        60  '2020/12/23'    130       101     300.0\n",
      "24        45  '2020/12/24'    105       132     246.0\n",
      "25        60  '2020/12/25'    102       126     334.5\n",
      "26        60      20201226    100       120     250.0\n",
      "27        60  '2020/12/27'     92       118     241.0\n",
      "28        60  '2020/12/28'    103       132       NaN\n",
      "29        60  '2020/12/29'    100       132     280.0\n",
      "30        60  '2020/12/30'    102       129     380.3\n",
      "31        60  '2020/12/31'     92       115     243.0\n"
     ]
    }
   ],
   "execution_count": 8
  },
  {
   "metadata": {},
   "cell_type": "markdown",
   "source": "### Removing Duplicates",
   "id": "6858915634934c5f"
  },
  {
   "metadata": {
    "ExecuteTime": {
     "end_time": "2025-07-08T12:13:41.411303Z",
     "start_time": "2025-07-08T12:13:41.026146Z"
    }
   },
   "cell_type": "code",
   "source": [
    "df = pd.read_csv('data/pandas_w3.csv')\n",
    "df.drop_duplicates(inplace=True)  # Remove duplicate rows\n",
    "print(df.duplicated())  # Count duplicates"
   ],
   "id": "a68b14f221b6f430",
   "outputs": [
    {
     "name": "stdout",
     "output_type": "stream",
     "text": [
      "0     False\n",
      "1     False\n",
      "2     False\n",
      "3     False\n",
      "4     False\n",
      "5     False\n",
      "6     False\n",
      "7     False\n",
      "8     False\n",
      "9     False\n",
      "10    False\n",
      "11    False\n",
      "13    False\n",
      "14    False\n",
      "15    False\n",
      "16    False\n",
      "17    False\n",
      "18    False\n",
      "19    False\n",
      "20    False\n",
      "21    False\n",
      "22    False\n",
      "23    False\n",
      "24    False\n",
      "25    False\n",
      "26    False\n",
      "27    False\n",
      "28    False\n",
      "29    False\n",
      "30    False\n",
      "31    False\n",
      "dtype: bool\n"
     ]
    }
   ],
   "execution_count": 39
  },
  {
   "metadata": {},
   "cell_type": "markdown",
   "source": "## Correlations",
   "id": "6bbaed1a19165821"
  },
  {
   "metadata": {
    "ExecuteTime": {
     "end_time": "2025-07-08T07:58:38.164017Z",
     "start_time": "2025-07-08T07:58:37.766406Z"
    }
   },
   "cell_type": "code",
   "source": [
    "df = pd.read_csv('data/data_correlations.csv')\n",
    "\n",
    "df.corr()"
   ],
   "id": "f54c9809b3d0e466",
   "outputs": [
    {
     "data": {
      "text/plain": [
       "          Duration     Pulse  Maxpulse  Calories\n",
       "Duration  1.000000 -0.155408  0.009403  0.922717\n",
       "Pulse    -0.155408  1.000000  0.786535  0.025121\n",
       "Maxpulse  0.009403  0.786535  1.000000  0.203813\n",
       "Calories  0.922717  0.025121  0.203813  1.000000"
      ],
      "text/html": [
       "<div>\n",
       "<style scoped>\n",
       "    .dataframe tbody tr th:only-of-type {\n",
       "        vertical-align: middle;\n",
       "    }\n",
       "\n",
       "    .dataframe tbody tr th {\n",
       "        vertical-align: top;\n",
       "    }\n",
       "\n",
       "    .dataframe thead th {\n",
       "        text-align: right;\n",
       "    }\n",
       "</style>\n",
       "<table border=\"1\" class=\"dataframe\">\n",
       "  <thead>\n",
       "    <tr style=\"text-align: right;\">\n",
       "      <th></th>\n",
       "      <th>Duration</th>\n",
       "      <th>Pulse</th>\n",
       "      <th>Maxpulse</th>\n",
       "      <th>Calories</th>\n",
       "    </tr>\n",
       "  </thead>\n",
       "  <tbody>\n",
       "    <tr>\n",
       "      <th>Duration</th>\n",
       "      <td>1.000000</td>\n",
       "      <td>-0.155408</td>\n",
       "      <td>0.009403</td>\n",
       "      <td>0.922717</td>\n",
       "    </tr>\n",
       "    <tr>\n",
       "      <th>Pulse</th>\n",
       "      <td>-0.155408</td>\n",
       "      <td>1.000000</td>\n",
       "      <td>0.786535</td>\n",
       "      <td>0.025121</td>\n",
       "    </tr>\n",
       "    <tr>\n",
       "      <th>Maxpulse</th>\n",
       "      <td>0.009403</td>\n",
       "      <td>0.786535</td>\n",
       "      <td>1.000000</td>\n",
       "      <td>0.203813</td>\n",
       "    </tr>\n",
       "    <tr>\n",
       "      <th>Calories</th>\n",
       "      <td>0.922717</td>\n",
       "      <td>0.025121</td>\n",
       "      <td>0.203813</td>\n",
       "      <td>1.000000</td>\n",
       "    </tr>\n",
       "  </tbody>\n",
       "</table>\n",
       "</div>"
      ]
     },
     "execution_count": 14,
     "metadata": {},
     "output_type": "execute_result"
    }
   ],
   "execution_count": 14
  },
  {
   "metadata": {},
   "cell_type": "markdown",
   "source": "## Plotting",
   "id": "3ebf9f4e3e2c44be"
  },
  {
   "metadata": {
    "ExecuteTime": {
     "end_time": "2025-07-08T12:02:23.416505Z",
     "start_time": "2025-07-08T12:02:20.488861Z"
    }
   },
   "cell_type": "code",
   "source": [
    "import matplotlib.pyplot as plt\n",
    "\n",
    "\n",
    "df = pd.read_csv('data/data_correlations.csv')\n",
    "\n",
    "print(df)\n",
    "df.plot(kind='scatter', x='Duration', y='Calories', title='Correlation between Duration and Calories')\n",
    "df.plot(kind='scatter', x='Duration', y='Maxpulse', title='Correlation between Duration and Maxpulse')\n",
    "# df[\"Duration\"].plot(kind = 'hist')\n",
    "plt.show()\n"
   ],
   "id": "c66e75696995590a",
   "outputs": [
    {
     "name": "stdout",
     "output_type": "stream",
     "text": [
      "     Duration  Pulse  Maxpulse  Calories\n",
      "0          60    110       130     409.1\n",
      "1          60    117       145     479.0\n",
      "2          60    103       135     340.0\n",
      "3          45    109       175     282.4\n",
      "4          45    117       148     406.0\n",
      "..        ...    ...       ...       ...\n",
      "164        60    105       140     290.8\n",
      "165        60    110       145     300.0\n",
      "166        60    115       145     310.2\n",
      "167        75    120       150     320.4\n",
      "168        75    125       150     330.4\n",
      "\n",
      "[169 rows x 4 columns]\n"
     ]
    },
    {
     "data": {
      "text/plain": [
       "<Figure size 640x480 with 1 Axes>"
      ],
      "image/png": "[encoded data removed]"
     },
     "metadata": {},
     "output_type": "display_data"
    },
    {
     "data": {
      "text/plain": [
       "<Figure size 640x480 with 1 Axes>"
      ],
      "image/png": "[encoded data removed]"
     },
     "metadata": {},
     "output_type": "display_data"
    }
   ],
   "execution_count": 38
  }
 ],
 "metadata": {
  "kernelspec": {
   "display_name": "Python 3",
   "language": "python",
   "name": "python3"
  },
  "language_info": {
   "codemirror_mode": {
    "name": "ipython",
    "version": 2
   },
   "file_extension": ".py",
   "mimetype": "text/x-python",
   "name": "python",
   "nbconvert_exporter": "python",
   "pygments_lexer": "ipython2",
   "version": "2.7.6"
  }
 },
 "nbformat": 4,
 "nbformat_minor": 5
}
