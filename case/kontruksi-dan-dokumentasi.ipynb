{
 "cells": [
  {
   "cell_type": "code",
   "id": "initial_id",
   "metadata": {
    "collapsed": true
   },
   "source": "#### Kontruksi dan dokumentasi",
   "outputs": [],
   "execution_count": null
  },
  {
   "metadata": {},
   "cell_type": "code",
   "source": [
    "import pandas as pd\n",
    "from sklearn.datasets import load_iris\n",
    "from sklearn.preprocessing import MinMaxScaler\n",
    "from sklearn.feature_selection import SelectKBest, f_classif\n",
    "\n",
    "import matplotlib.pyplot as plt\n",
    "import seaborn as sns"
   ],
   "id": "84845df3ebd96a41",
   "outputs": [],
   "execution_count": null
  },
  {
   "metadata": {},
   "cell_type": "markdown",
   "source": "",
   "id": "d41c0e0ad76d9d8b"
  },
  {
   "metadata": {},
   "cell_type": "code",
   "source": [
    "iris = load_iris()\n",
    "df = pd.DataFrame(data=iris.data, columns=iris.feature_names)\n",
    "df['target'] = iris.target\n",
    "\n",
    "print(\"Dimensi Data (Rows, Columns):\", df.shape)\n",
    "print(\"Informasi Data type dan encoding\")\n",
    "print(df.info())\n",
    "print(df.head())"
   ],
   "id": "a438eac572b9242c",
   "outputs": [],
   "execution_count": null
  },
  {
   "metadata": {},
   "cell_type": "code",
   "source": [
    "print(\"Deskripsi Statistik\")\n",
    "print(df.describe())\n",
    "\n",
    "print(\"Deteksi mising value\")\n",
    "print(df.isnull().sum())\n",
    "\n",
    "# Identifikasi outlier menggunkan IQR\n",
    "for column in df.columns[:-1]:\n",
    "    q1 = df[column].quantile(0.25)\n",
    "    q3 = df[column].quantile(0.75)\n",
    "    iqr = q3 - q1\n",
    "\n",
    "    lower_bound = q1 - 1.5 * iqr\n",
    "    upper_bound = q3 + 1.5 * iqr\n",
    "\n",
    "    outliers = df[(df[column] < lower_bound) & (df[column] > upper_bound)]\n",
    "    print(f\"\\nOutlier pada kolom {column}:\")\n",
    "    print(outliers)"
   ],
   "id": "27a7cfec8d82923e",
   "outputs": [],
   "execution_count": null
  },
  {
   "metadata": {},
   "cell_type": "markdown",
   "source": "#### Data Cleaning",
   "id": "c17a6dc391ac70f4"
  },
  {
   "metadata": {},
   "cell_type": "code",
   "source": [
    "# Pembersihan data\n",
    "# 1. Pengisian nilai yang hilang (jika ada)\n",
    "# Dalam dataset iris, tidak ada nilai yang hilang, jadi bagian ini bisa dilewati.\n",
    "# Namun, jika ada, Anda bisa menggunakan:\n",
    "# df['sepal length (cm)'].fillna(df['sepal length (cm)'].mean(), inplace=True)\n",
    "# df['sepal width (cm)'].fillna(df['sepal width (cm)'].median(), inplace=True)\n",
    "# df['petal length (cm)'].fillna(df['petal length (cm)'].mode()[0], inplace=True)\n",
    "\n",
    "# 2. Menghapus baris dengan data yang salah (jika ada)\n",
    "# Dalam dataset iris, tidak ada data yang salah secara jelas.\n",
    "# Namun, jika ada, Anda bisa menggunakan:\n",
    "# df.drop(df[df['sepal length (cm)'] < 0].index, inplace=True)\n",
    "\n",
    "# 3. Mengoreksi nilai outlier\n",
    "for column in df.columns[:-1]:\n",
    "    Q1 = df[column].quantile(0.25)\n",
    "    Q3 = df[column].quantile(0.75)\n",
    "    IQR = Q3 - Q1\n",
    "    lower_bound = Q1 - 1.5 * IQR\n",
    "    upper_bound = Q3 + 1.5 * IQR\n",
    "    df[column] = df[column].clip(lower_bound, upper_bound)\n",
    "    print(f\"\\nOutlier pada kolom {column}:\")\n",
    "\n",
    "# Setelah pembersihan data\n",
    "print(\"\\nDeskripsi statistik setelah pembersihan:\")\n",
    "print(df.describe())"
   ],
   "id": "b47790745eec9b4a",
   "outputs": [],
   "execution_count": null
  },
  {
   "metadata": {},
   "cell_type": "markdown",
   "source": "",
   "id": "1687bee487c6052"
  },
  {
   "metadata": {},
   "cell_type": "markdown",
   "source": "#### Mengkontruksi Data",
   "id": "eaaeac6e7ff3d353"
  },
  {
   "metadata": {},
   "cell_type": "code",
   "source": [
    "# 1. Normalisasi Data\n",
    "# Normalisasi dilakukan menggunakan MinMaxScaler untuk mengubah rentang nilai fitur menjadi 0-1.\n",
    "scaler = MinMaxScaler()\n",
    "numerical_features = ['sepal length (cm)', 'sepal width (cm)', 'petal length (cm)', 'petal width (cm)']\n",
    "df[numerical_features] = scaler.fit_transform(df[numerical_features])\n",
    "print(\"Data Setelah normalisasi\")\n",
    "print(df.head())\n",
    "\n",
    "# 2. Pemilihan fitur\n",
    "# Menggunakan SelectKBest untuk memilih 2 fitur terbaik berdasarkan skor ANOVA F-value.\n",
    "X = df.drop('target', axis=1)\n",
    "y = df['target']\n",
    "selector = SelectKBest(score_func=f_classif, k=2)\n",
    "X_new = selector.fit_transform(X, y)\n",
    "selected_features = X.columns[selector.get_support()]\n",
    "print(\"Fitur terpilih\", selected_features)\n",
    "\n",
    "# 3.Binning\n",
    "# Binning dilakukan pada fitur 'petal length (cm)' untuk mengelompokkan data menjadi beberapa kategori.\n",
    "df['petal_length_binned'] = pd.cut(df['petal length (cm)'], bins=3, labels=['rendah', 'sedang', 'tinggi'])\n",
    "print(\"Data setelah di binning\")\n",
    "print(df.head())"
   ],
   "id": "50b6ae181bf1987",
   "outputs": [],
   "execution_count": null
  },
  {
   "metadata": {},
   "cell_type": "markdown",
   "source": [
    "**Evaluasi Proses Transformasi Data**\n",
    "Proses transformasi data meliputi normalisasi fitur-fitur numerik dan pembersihan nilai yang tidak sesuai. Berikut adalah evaluasinya:\n",
    "\n",
    "- Normalisasi Data: Setiap fitur numerik (panjang dan lebar sepal serta petal) telah dinormalisasi ke rentang [0, 1]. Hal ini sangat membantu dalam mengurangi skala yang berbeda antara fitur dan membuat algoritma pembelajaran mesin lebih stabil dan cepat untuk berkonvergensi.Distribusi Data: Berdasarkan kuartil (25%, 50%, dan 75%) serta standar deviasi, data terlihat tersebar dengan baik dan tidak ada anomali yang signifikan dalam distribusi setelah normalisasi.\n",
    "- Penanganan Missing Value: Tidak ada missing value dalam data setelah proses pembersihan ini, yang menunjukkan bahwa data telah dipersiapkan dengan baik untuk analisis lebih lanjut."
   ],
   "id": "9aee522462dd7d41"
  },
  {
   "metadata": {},
   "cell_type": "markdown",
   "source": "#### Menentukan Label Data",
   "id": "bf549aa89bfb91e"
  },
  {
   "metadata": {},
   "cell_type": "code",
   "source": [
    "# Identifikasi data target dan lakukan pelabelan\n",
    "# Dalam dataset iris, kolom 'target' sudah mewakili label kelas (0, 1, 2).\n",
    "# Namun, jika diperlukan pelabelan yang lebih spesifik berdasarkan SOP,\n",
    "# kita bisa melakukan mapping label sesuai dengan kebutuhan.\n",
    "\n",
    "# Misalnya, jika SOP menentukan bahwa:\n",
    "# - target 0: Setosa\n",
    "# - target 1: Versicolor\n",
    "# - target 2: Virginica\n",
    "# Kita bisa membuat mapping label seperti ini:\n",
    "\n",
    "label_mapping = {\n",
    "    0: \"Setosa\",\n",
    "    1: \"Versicolor\",\n",
    "    2: \"Virginica\",\n",
    "}\n",
    "\n",
    "# Buat kolom baru 'target_label' yang berisi label teks\n",
    "df['target'] = df['target'].map(label_mapping)\n",
    "\n",
    "# Tampilkan data dengan label baru\n",
    "print(\"label baru berdasarkan SOP\")\n",
    "print(df.head())"
   ],
   "id": "1551283414b4c4b7",
   "outputs": [],
   "execution_count": null
  },
  {
   "metadata": {},
   "cell_type": "markdown",
   "source": [
    "**Evaluasi Hasil Pelabelan**\n",
    "Kolom target mengandung label yang sudah diproses dengan baik:\n",
    "\n",
    "- Jumlah Kelas: Dataset terdiri dari tiga kelas (0, 1, dan 2), yang terdistribusi secara proporsional berdasarkan mean dan kuartil data.\n",
    "- Proporsi Kelas: Nilai mean dari 1.0 menunjukkan bahwa kelas-kelas dalam target tersebar rata dan tidak ada bias besar ke salah satu kelas tertentu.\n",
    "- Kesimpulan Evaluasi Data"
   ],
   "id": "edb9152ad3ead80a"
  },
  {
   "metadata": {},
   "cell_type": "markdown",
   "source": "#### Viasualisasi Data",
   "id": "e64865dd5e67fc66"
  },
  {
   "metadata": {},
   "cell_type": "code",
   "source": [
    "# Histogram untuk melihat distribusi data setelah pembersihan\n",
    "# Adjust the subplot grid to accommodate all columns\n",
    "num_cols = len(df.columns[:-2])\n",
    "num_rows = (num_cols + 1) // 2  # Calculate rows needed\n",
    "plt.figure(figsize=(12, 6 * num_rows)) # Adjust figure height\n",
    "\n",
    "for i, column in enumerate(df.columns[:-2]):\n",
    "    plt.subplot(num_rows, 2, i + 1)\n",
    "    sns.histplot(df[column], kde=True)\n",
    "    plt.title(f\"Distribusi {column}\")\n",
    "plt.tight_layout()\n",
    "plt.show()\n",
    "\n",
    "# Scatter plot untuk melihat hubungan antara dua fitur terpilih\n",
    "plt.figure(figsize=(8, 6))\n",
    "sns.scatterplot(x=df[selected_features[0]], y=df[selected_features[1]], hue=df['target'])\n",
    "plt.title(f'Hubungan antara {selected_features[0]} dan {selected_features[1]}')\n",
    "plt.show()\n",
    "\n",
    "# Box plot untuk melihat distribusi data sebelum dan sesudah normalisasi\n",
    "plt.figure(figsize=(12,6))\n",
    "for i, column in enumerate(numerical_features):\n",
    "    plt.subplot(2, 2, i + 1)\n",
    "    sns.boxplot(data=df, y=column)\n",
    "    plt.title(f\"Distribusi {column}\")\n",
    "plt.tight_layout()\n",
    "plt.show()\n",
    "\n",
    "# Histogram untuk melihat distribusi data setelah binning\n",
    "plt.figure(figsize=(12,6))\n",
    "sns.histplot(data=df['petal_length_binned'], kde=True)\n",
    "plt.title(f\"Distribusi Petal length setelah binning\")\n",
    "plt.show()"
   ],
   "id": "3422166866517bb6",
   "outputs": [],
   "execution_count": null
  },
  {
   "metadata": {},
   "cell_type": "markdown",
   "source": [
    "#### Contoh Laporan\n",
    "\n",
    "**Kualitas Data yang Dibersihkan:**\n",
    "\n",
    "- Data bebas dari missing value.\n",
    "- Setiap fitur numerik telah dinormalisasi dengan baik sehingga tidak ada dominasi skala antara fitur.\n",
    "- Statistik deskriptif menunjukkan distribusi data yang cukup baik tanpa outlier yang signifikan.\n",
    "\n",
    "**Transformasi Data:**\n",
    "- Normalisasi telah dilakukan dengan benar untuk menjaga kestabilan algoritma machine learning.\n",
    "- Tidak ada fitur yang hilang atau terdistorsi dalam proses transformasi ini.\n",
    "\n",
    "**Hasil Pelabelan:**\n",
    "- Pelabelan target terlihat sudah sesuai dengan asumsi tiga kelas yang seimbang.\n",
    "- Evaluasi target menunjukkan bahwa data siap digunakan untuk model prediksi tanpa risiko bias besar.\n",
    "\n",
    "**Rekomendasi Selanjutnya**\n",
    "- Lakukan analisis multivariat untuk mengeksplorasi korelasi antara fitur-fitur yang ada.\n",
    "- Dengan data yang sudah bersih dan terstruktur, langkah selanjutnya adalah membangun model machine learning dan mengevaluasi performanya.\n",
    "- Gunakan teknik validasi seperti cross-validation untuk memastikan bahwa model tidak mengalami overfitting.\n"
   ],
   "id": "dba23e3bfd40e68a"
  }
 ],
 "metadata": {
  "kernelspec": {
   "display_name": "Python 3",
   "language": "python",
   "name": "python3"
  },
  "language_info": {
   "codemirror_mode": {
    "name": "ipython",
    "version": 2
   },
   "file_extension": ".py",
   "mimetype": "text/x-python",
   "name": "python",
   "nbconvert_exporter": "python",
   "pygments_lexer": "ipython2",
   "version": "2.7.6"
  }
 },
 "nbformat": 4,
 "nbformat_minor": 5
}
