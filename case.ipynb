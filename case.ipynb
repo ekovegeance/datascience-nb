{
 "cells": [
  {
   "metadata": {},
   "cell_type": "markdown",
   "source": [
    "# Case\n",
    "[Comparison with spreadsheets](https://pandas.pydata.org/docs/getting_started/comparison/comparison_with_spreadsheets.html)\n",
    "Since many potential pandas users have some familiarity with spreadsheet programs like Excel, this page is meant to provide some examples of how various spreadsheet operations would be performed using pandas. This page will use terminology and link to documentation for Excel, but much will be the same/similar in Google Sheets, LibreOffice Calc, Apple Numbers, and other Excel-compatible spreadsheet software."
   ],
   "id": "397b101aed346de"
  },
  {
   "metadata": {
    "ExecuteTime": {
     "end_time": "2025-07-15T11:46:56.291523Z",
     "start_time": "2025-07-15T11:46:56.110088Z"
    }
   },
   "cell_type": "code",
   "source": [
    "import pandas as pd\n",
    "\n",
    "\n",
    "tips = pd.read_csv('data/tips.csv', delimiter=',')\n",
    "\n",
    "# tips.describe()\n",
    "# tips['total_bill'].count()\n",
    "# tips.info()\n",
    "tips['total_bill'] = tips['total_bill'] - 2\n",
    "tips['new_bill'] = tips['total_bill'] / 2\n",
    "print(tips.head())"
   ],
   "id": "e423db6f47ed99f0",
   "outputs": [
    {
     "name": "stdout",
     "output_type": "stream",
     "text": [
      "   total_bill   tip     sex smoker  day    time  size  new_bill\n",
      "0       14.99  1.01  Female     No  Sun  Dinner     2     7.495\n",
      "1        8.34  1.66    Male     No  Sun  Dinner     3     4.170\n",
      "2       19.01  3.50    Male     No  Sun  Dinner     3     9.505\n",
      "3       21.68  3.31    Male     No  Sun  Dinner     2    10.840\n",
      "4       22.59  3.61  Female     No  Sun  Dinner     4    11.295\n"
     ]
    }
   ],
   "execution_count": 55
  }
 ],
 "metadata": {
  "kernelspec": {
   "display_name": "Python 3",
   "language": "python",
   "name": "python3"
  },
  "language_info": {
   "codemirror_mode": {
    "name": "ipython",
    "version": 2
   },
   "file_extension": ".py",
   "mimetype": "text/x-python",
   "name": "python",
   "nbconvert_exporter": "python",
   "pygments_lexer": "ipython2",
   "version": "2.7.6"
  }
 },
 "nbformat": 4,
 "nbformat_minor": 5
}
