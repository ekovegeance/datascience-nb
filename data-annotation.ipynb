{
 "cells": [
  {
   "metadata": {},
   "cell_type": "markdown",
   "source": "# Data Annotation",
   "id": "5cf9cde0ada00b0b"
  },
  {
   "metadata": {
    "ExecuteTime": {
     "end_time": "2025-06-23T14:55:53.524895Z",
     "start_time": "2025-06-23T14:55:53.390162Z"
    }
   },
   "cell_type": "code",
   "source": [
    "import pandas as pd\n",
    "from termcolor import cprint\n",
    "from sklearn.datasets import load_iris\n",
    "\n",
    "\n",
    "iris = load_iris()\n",
    "df = pd.DataFrame(data=iris.data, columns=iris.feature_names)\n",
    "df['target'] = iris.target\n",
    "\n",
    "# Identifikasi data target dan lakukan pelabelan\n",
    "# Dalam dataset iris, kolom 'target' sudah mewakili label kelas (0, 1, 2).\n",
    "# Namun, jika diperlukan pelabelan yang lebih spesifik berdasarkan SOP,\n",
    "# kita bisa melakukan mapping label sesuai dengan kebutuhan.\n",
    "# Misalnya, jika SOP menentukan bahwa:\n",
    "# - target 0: Setosa\n",
    "# - target 1: Versicolor\n",
    "# - target 2: Virginica\n",
    "# Kita bisa membuat mapping label seperti ini:\n",
    "\n",
    "\n",
    "label_mapping = {\n",
    "    0: 'Setosa',\n",
    "    1: 'Versicolor',\n",
    "    2: 'Virginica'\n",
    "}\n",
    "# Buat kolom baru 'target_label' yang berisi label teks\n",
    "df['target_label'] = df['target'].map(label_mapping)\n",
    "# Tampilkan data dengan label baru\n",
    "cprint(\"Data dengan label baru:\", \"green\")\n",
    "print(df.head())"
   ],
   "id": "b028b3653b47c58e",
   "outputs": [
    {
     "name": "stdout",
     "output_type": "stream",
     "text": [
      "\u001B[32mData dengan label baru:\u001B[0m\n",
      "   sepal length (cm)  sepal width (cm)  petal length (cm)  petal width (cm)  \\\n",
      "0                5.1               3.5                1.4               0.2   \n",
      "1                4.9               3.0                1.4               0.2   \n",
      "2                4.7               3.2                1.3               0.2   \n",
      "3                4.6               3.1                1.5               0.2   \n",
      "4                5.0               3.6                1.4               0.2   \n",
      "\n",
      "   target target_label  \n",
      "0       0       Setosa  \n",
      "1       0       Setosa  \n",
      "2       0       Setosa  \n",
      "3       0       Setosa  \n",
      "4       0       Setosa  \n"
     ]
    }
   ],
   "execution_count": 14
  }
 ],
 "metadata": {
  "kernelspec": {
   "display_name": "Python 3",
   "language": "python",
   "name": "python3"
  },
  "language_info": {
   "codemirror_mode": {
    "name": "ipython",
    "version": 2
   },
   "file_extension": ".py",
   "mimetype": "text/x-python",
   "name": "python",
   "nbconvert_exporter": "python",
   "pygments_lexer": "ipython2",
   "version": "2.7.6"
  }
 },
 "nbformat": 4,
 "nbformat_minor": 5
}
