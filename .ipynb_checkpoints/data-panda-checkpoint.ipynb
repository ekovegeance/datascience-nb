{
 "cells": [
  {
   "metadata": {},
   "cell_type": "markdown",
   "source": [
    "# Digitalent - Data Science\n",
    "## Fundamental Data Science"
   ],
   "id": "721606899e978acf"
  },
  {
   "metadata": {},
   "cell_type": "markdown",
   "source": "1. [Pandas](https://lms.sdmdigital.id/mod/book/view.php?id=21829&chapterid=366)",
   "id": "c6b1d614c2dafe1c"
  },
  {
   "cell_type": "code",
   "id": "initial_id",
   "metadata": {
    "collapsed": true,
    "ExecuteTime": {
     "end_time": "2025-06-15T10:55:04.414416Z",
     "start_time": "2025-06-15T10:55:04.389506Z"
    }
   },
   "source": [
    "import pandas as pd\n",
    "# Read the CSV file\n",
    "data = pd.read_csv('data/data.csv', delimiter=';')\n",
    "# Display 5 rows of the DataFrame\n",
    "print(data.head(5))\n",
    "print(data.shape)"
   ],
   "outputs": [
    {
     "name": "stdout",
     "output_type": "stream",
     "text": [
      "  longitude,\"latitude\",\"housing_median_age\",\"total_rooms\",\"total_bedrooms\",\"population\",\"households\",\"median_income\",\"median_house_value\"\n",
      "0  -122.050000,37.370000,27.000000,3885.000000,66...                                                                                     \n",
      "1  -118.300000,34.260000,43.000000,1510.000000,31...                                                                                     \n",
      "2  -117.810000,33.780000,27.000000,3589.000000,50...                                                                                     \n",
      "3  -118.360000,33.820000,28.000000,67.000000,15.0...                                                                                     \n",
      "4  -119.670000,36.330000,19.000000,1241.000000,24...                                                                                     \n",
      "(3000, 1)\n"
     ]
    }
   ],
   "execution_count": 2
  },
  {
   "metadata": {},
   "cell_type": "code",
   "outputs": [],
   "execution_count": null,
   "source": "",
   "id": "c5011fe735758d14"
  }
 ],
 "metadata": {
  "kernelspec": {
   "display_name": "Python 3",
   "language": "python",
   "name": "python3"
  },
  "language_info": {
   "codemirror_mode": {
    "name": "ipython",
    "version": 2
   },
   "file_extension": ".py",
   "mimetype": "text/x-python",
   "name": "python",
   "nbconvert_exporter": "python",
   "pygments_lexer": "ipython2",
   "version": "2.7.6"
  }
 },
 "nbformat": 4,
 "nbformat_minor": 5
}
